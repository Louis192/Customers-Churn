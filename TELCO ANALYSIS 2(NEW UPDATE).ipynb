{
 "cells": [
  {
   "cell_type": "markdown",
   "metadata": {},
   "source": [
    "### Customer churn in Telecom company\n",
    "\n",
    "Project By ADIBE OKEZIE LOUIS\n",
    "\n",
    "\n"
   ]
  },
  {
   "cell_type": "markdown",
   "metadata": {},
   "source": [
    "** OVERVIEW**\n",
    "\n",
    " - Defining the business problem\n",
    " - Data exploration and visualizations\n",
    " - Data Wrangling\n",
    " - Feature Engineering ( feature selection)\n",
    " - Training and testing machine learning model( GBM)\n",
    " - Recommendations to retain customers\n",
    " - References"
   ]
  },
  {
   "cell_type": "markdown",
   "metadata": {},
   "source": [
    "1. **Business problem**\n",
    "    <br>\n",
    " A telecom company is faced with the problem of customers subscribing to the services of other telecom \n",
    " companies.As a result,it is important to identify the customer who has high probability of leaving,spending too much resources and time on customers that have no intention of leaving will be a waste of money and time.Data from the past records of customers can give great insights on who might leave and what is the cause of intention to leave."
   ]
  },
  {
   "cell_type": "code",
   "execution_count": 875,
   "metadata": {},
   "outputs": [],
   "source": [
    "import os\n",
    "import pandas as pd\n",
    "import pandas_profiling\n",
    "import matplotlib.pyplot as plt\n",
    "%matplotlib inline\n",
    "import seaborn as sns\n",
    "import numpy as np\n",
    "from sklearn.model_selection import train_test_split\n",
    "from sklearn.feature_selection import VarianceThreshold\n",
    "import warnings\n",
    "warnings.filterwarnings('ignore')\n",
    "%matplotlib inline"
   ]
  },
  {
   "cell_type": "code",
   "execution_count": 876,
   "metadata": {},
   "outputs": [],
   "source": [
    "Telco=pd.read_csv('Telco.csv',engine='python')"
   ]
  },
  {
   "cell_type": "code",
   "execution_count": 877,
   "metadata": {},
   "outputs": [],
   "source": [
    "# The code below displays an overview of the raw data set"
   ]
  },
  {
   "cell_type": "code",
   "execution_count": 879,
   "metadata": {
    "scrolled": true
   },
   "outputs": [
    {
     "name": "stdout",
     "output_type": "stream",
     "text": [
      "<class 'pandas.core.frame.DataFrame'>\n",
      "RangeIndex: 7043 entries, 0 to 7042\n",
      "Data columns (total 21 columns):\n",
      "customerID          7043 non-null object\n",
      "gender              7043 non-null object\n",
      "SeniorCitizen       7043 non-null int64\n",
      "Partner             7043 non-null object\n",
      "Dependents          7043 non-null object\n",
      "tenure              7043 non-null int64\n",
      "PhoneService        7043 non-null object\n",
      "MultipleLines       7043 non-null object\n",
      "InternetService     7043 non-null object\n",
      "OnlineSecurity      7043 non-null object\n",
      "OnlineBackup        7043 non-null object\n",
      "DeviceProtection    7043 non-null object\n",
      "TechSupport         7043 non-null object\n",
      "StreamingTV         7043 non-null object\n",
      "StreamingMovies     7043 non-null object\n",
      "Contract            7043 non-null object\n",
      "PaperlessBilling    7043 non-null object\n",
      "PaymentMethod       7043 non-null object\n",
      "MonthlyCharges      7043 non-null float64\n",
      "TotalCharges        7043 non-null object\n",
      "Churn               7043 non-null object\n",
      "dtypes: float64(1), int64(2), object(18)\n",
      "memory usage: 1.1+ MB\n"
     ]
    }
   ],
   "source": [
    "Telco.info()"
   ]
  },
  {
   "cell_type": "code",
   "execution_count": 880,
   "metadata": {
    "scrolled": false
   },
   "outputs": [
    {
     "data": {
      "text/html": [
       "<div>\n",
       "<style scoped>\n",
       "    .dataframe tbody tr th:only-of-type {\n",
       "        vertical-align: middle;\n",
       "    }\n",
       "\n",
       "    .dataframe tbody tr th {\n",
       "        vertical-align: top;\n",
       "    }\n",
       "\n",
       "    .dataframe thead th {\n",
       "        text-align: right;\n",
       "    }\n",
       "</style>\n",
       "<table border=\"1\" class=\"dataframe\">\n",
       "  <thead>\n",
       "    <tr style=\"text-align: right;\">\n",
       "      <th></th>\n",
       "      <th>customerID</th>\n",
       "      <th>gender</th>\n",
       "      <th>SeniorCitizen</th>\n",
       "      <th>Partner</th>\n",
       "      <th>Dependents</th>\n",
       "      <th>tenure</th>\n",
       "      <th>PhoneService</th>\n",
       "      <th>MultipleLines</th>\n",
       "      <th>InternetService</th>\n",
       "      <th>OnlineSecurity</th>\n",
       "      <th>...</th>\n",
       "      <th>DeviceProtection</th>\n",
       "      <th>TechSupport</th>\n",
       "      <th>StreamingTV</th>\n",
       "      <th>StreamingMovies</th>\n",
       "      <th>Contract</th>\n",
       "      <th>PaperlessBilling</th>\n",
       "      <th>PaymentMethod</th>\n",
       "      <th>MonthlyCharges</th>\n",
       "      <th>TotalCharges</th>\n",
       "      <th>Churn</th>\n",
       "    </tr>\n",
       "  </thead>\n",
       "  <tbody>\n",
       "    <tr>\n",
       "      <th>0</th>\n",
       "      <td>7590-VHVEG</td>\n",
       "      <td>Female</td>\n",
       "      <td>0</td>\n",
       "      <td>Yes</td>\n",
       "      <td>No</td>\n",
       "      <td>1</td>\n",
       "      <td>No</td>\n",
       "      <td>No phone service</td>\n",
       "      <td>DSL</td>\n",
       "      <td>No</td>\n",
       "      <td>...</td>\n",
       "      <td>No</td>\n",
       "      <td>No</td>\n",
       "      <td>No</td>\n",
       "      <td>No</td>\n",
       "      <td>Month-to-month</td>\n",
       "      <td>Yes</td>\n",
       "      <td>Electronic check</td>\n",
       "      <td>29.85</td>\n",
       "      <td>29.85</td>\n",
       "      <td>No</td>\n",
       "    </tr>\n",
       "    <tr>\n",
       "      <th>1</th>\n",
       "      <td>5575-GNVDE</td>\n",
       "      <td>Male</td>\n",
       "      <td>0</td>\n",
       "      <td>No</td>\n",
       "      <td>No</td>\n",
       "      <td>34</td>\n",
       "      <td>Yes</td>\n",
       "      <td>No</td>\n",
       "      <td>DSL</td>\n",
       "      <td>Yes</td>\n",
       "      <td>...</td>\n",
       "      <td>Yes</td>\n",
       "      <td>No</td>\n",
       "      <td>No</td>\n",
       "      <td>No</td>\n",
       "      <td>One year</td>\n",
       "      <td>No</td>\n",
       "      <td>Mailed check</td>\n",
       "      <td>56.95</td>\n",
       "      <td>1889.5</td>\n",
       "      <td>No</td>\n",
       "    </tr>\n",
       "    <tr>\n",
       "      <th>2</th>\n",
       "      <td>3668-QPYBK</td>\n",
       "      <td>Male</td>\n",
       "      <td>0</td>\n",
       "      <td>No</td>\n",
       "      <td>No</td>\n",
       "      <td>2</td>\n",
       "      <td>Yes</td>\n",
       "      <td>No</td>\n",
       "      <td>DSL</td>\n",
       "      <td>Yes</td>\n",
       "      <td>...</td>\n",
       "      <td>No</td>\n",
       "      <td>No</td>\n",
       "      <td>No</td>\n",
       "      <td>No</td>\n",
       "      <td>Month-to-month</td>\n",
       "      <td>Yes</td>\n",
       "      <td>Mailed check</td>\n",
       "      <td>53.85</td>\n",
       "      <td>108.15</td>\n",
       "      <td>Yes</td>\n",
       "    </tr>\n",
       "    <tr>\n",
       "      <th>3</th>\n",
       "      <td>7795-CFOCW</td>\n",
       "      <td>Male</td>\n",
       "      <td>0</td>\n",
       "      <td>No</td>\n",
       "      <td>No</td>\n",
       "      <td>45</td>\n",
       "      <td>No</td>\n",
       "      <td>No phone service</td>\n",
       "      <td>DSL</td>\n",
       "      <td>Yes</td>\n",
       "      <td>...</td>\n",
       "      <td>Yes</td>\n",
       "      <td>Yes</td>\n",
       "      <td>No</td>\n",
       "      <td>No</td>\n",
       "      <td>One year</td>\n",
       "      <td>No</td>\n",
       "      <td>Bank transfer (automatic)</td>\n",
       "      <td>42.30</td>\n",
       "      <td>1840.75</td>\n",
       "      <td>No</td>\n",
       "    </tr>\n",
       "    <tr>\n",
       "      <th>4</th>\n",
       "      <td>9237-HQITU</td>\n",
       "      <td>Female</td>\n",
       "      <td>0</td>\n",
       "      <td>No</td>\n",
       "      <td>No</td>\n",
       "      <td>2</td>\n",
       "      <td>Yes</td>\n",
       "      <td>No</td>\n",
       "      <td>Fiber optic</td>\n",
       "      <td>No</td>\n",
       "      <td>...</td>\n",
       "      <td>No</td>\n",
       "      <td>No</td>\n",
       "      <td>No</td>\n",
       "      <td>No</td>\n",
       "      <td>Month-to-month</td>\n",
       "      <td>Yes</td>\n",
       "      <td>Electronic check</td>\n",
       "      <td>70.70</td>\n",
       "      <td>151.65</td>\n",
       "      <td>Yes</td>\n",
       "    </tr>\n",
       "  </tbody>\n",
       "</table>\n",
       "<p>5 rows × 21 columns</p>\n",
       "</div>"
      ],
      "text/plain": [
       "   customerID  gender  SeniorCitizen Partner Dependents  tenure PhoneService  \\\n",
       "0  7590-VHVEG  Female              0     Yes         No       1           No   \n",
       "1  5575-GNVDE    Male              0      No         No      34          Yes   \n",
       "2  3668-QPYBK    Male              0      No         No       2          Yes   \n",
       "3  7795-CFOCW    Male              0      No         No      45           No   \n",
       "4  9237-HQITU  Female              0      No         No       2          Yes   \n",
       "\n",
       "      MultipleLines InternetService OnlineSecurity  ... DeviceProtection  \\\n",
       "0  No phone service             DSL             No  ...               No   \n",
       "1                No             DSL            Yes  ...              Yes   \n",
       "2                No             DSL            Yes  ...               No   \n",
       "3  No phone service             DSL            Yes  ...              Yes   \n",
       "4                No     Fiber optic             No  ...               No   \n",
       "\n",
       "  TechSupport StreamingTV StreamingMovies        Contract PaperlessBilling  \\\n",
       "0          No          No              No  Month-to-month              Yes   \n",
       "1          No          No              No        One year               No   \n",
       "2          No          No              No  Month-to-month              Yes   \n",
       "3         Yes          No              No        One year               No   \n",
       "4          No          No              No  Month-to-month              Yes   \n",
       "\n",
       "               PaymentMethod MonthlyCharges  TotalCharges Churn  \n",
       "0           Electronic check          29.85         29.85    No  \n",
       "1               Mailed check          56.95        1889.5    No  \n",
       "2               Mailed check          53.85        108.15   Yes  \n",
       "3  Bank transfer (automatic)          42.30       1840.75    No  \n",
       "4           Electronic check          70.70        151.65   Yes  \n",
       "\n",
       "[5 rows x 21 columns]"
      ]
     },
     "execution_count": 880,
     "metadata": {},
     "output_type": "execute_result"
    }
   ],
   "source": [
    "Telco.head()"
   ]
  },
  {
   "cell_type": "code",
   "execution_count": 881,
   "metadata": {},
   "outputs": [
    {
     "data": {
      "text/plain": [
       "7043"
      ]
     },
     "execution_count": 881,
     "metadata": {},
     "output_type": "execute_result"
    }
   ],
   "source": [
    "len(Telco)"
   ]
  },
  {
   "cell_type": "code",
   "execution_count": 882,
   "metadata": {},
   "outputs": [],
   "source": [
    "# from above,the median tenure that customers have stayed in the company is 29,median monthly charges is 70,median Total charges is 1397"
   ]
  },
  {
   "cell_type": "markdown",
   "metadata": {},
   "source": [
    "2.**Data Exploration And Visualizations**"
   ]
  },
  {
   "cell_type": "markdown",
   "metadata": {},
   "source": [
    "--"
   ]
  },
  {
   "cell_type": "code",
   "execution_count": 883,
   "metadata": {},
   "outputs": [
    {
     "name": "stdout",
     "output_type": "stream",
     "text": [
      "Overall Customer Churn percentage in the given dataset is : 26.54 %\n"
     ]
    },
    {
     "data": {
      "image/png": "[encoded data removed]",
      "text/plain": [
       "<matplotlib.figure.Figure at 0x2d4c6b0bb00>"
      ]
     },
     "metadata": {},
     "output_type": "display_data"
    }
   ],
   "source": [
    "sns.set_style('dark')\n",
    "plt.rcParams['figure.figsize']=5,2\n",
    "(Telco.groupby('Churn')['customerID'].count()/Telco['customerID'].count()).plot.bar()\n",
    "plt.title('Proportion of Customers',fontsize=10,color='red')\n",
    "plt.ylabel('Proportion',fontsize=10,color='red')\n",
    "plt.xlabel('Churn',fontsize=10,color='purple')\n",
    "plt.xticks(fontsize=10)\n",
    "plt.yticks(fontsize=10)\n",
    "plt.xlabel(' Remained (No) or Left (Yes)' )\n",
    "print('Overall Customer Churn percentage in the given dataset is : {} %'.format(round(Telco.Churn.replace({'No':0,'Yes':1}).mean()*100,2)))"
   ]
  },
  {
   "cell_type": "markdown",
   "metadata": {},
   "source": [
    "Remark:26.54% of 7043 records in the dataset,represents 1869 customers who left the company"
   ]
  },
  {
   "cell_type": "markdown",
   "metadata": {},
   "source": [
    " **<span style=\"text-decoration: underline\">Visualize Customers Churn rate</span>**"
   ]
  },
  {
   "cell_type": "code",
   "execution_count": 1750,
   "metadata": {},
   "outputs": [
    {
     "data": {
      "image/png": "[encoded data removed]",
      "text/plain": [
       "<matplotlib.figure.Figure at 0x232e9378860>"
      ]
     },
     "metadata": {},
     "output_type": "display_data"
    }
   ],
   "source": [
    "plt.figure(figsize=(10,4))\n",
    "plt.subplot(1,2,1)\n",
    "Telco['Tenure Group'] = 'Between 2 to 5 Years'\n",
    "Telco.loc[Telco['tenure'] >59,'Tenure Group'] = 'More than 5 Years' \n",
    "Telco.loc[Telco['tenure'] == 24,'Tenure Group'] = '2 Years'\n",
    "Telco.loc[Telco['tenure'] <= 12,'Tenure Group'] = 'Less Than 1 Year'\n",
    "Telco.loc[Telco['tenure'] == 36,'Tenure Group'] = '3 years'\n",
    "Telco['Churn_new'] = Telco['Churn'].replace({'Yes':1,'No':0})\n",
    "Telco_rate = Telco.groupby('Tenure Group')['Churn_new'].mean().sort_values(ascending=False)\n",
    "(round(100*Telco_rate,2)).plot.bar(color='blue')\n",
    "plt.ylabel('Churn Percentage',color='red')\n",
    "plt.title('Percentage Churn Vs Tenures',color='blue')\n",
    "_\n",
    "plt.show()\n",
    "\n"
   ]
  },
  {
   "cell_type": "markdown",
   "metadata": {},
   "source": [
    "Remarks:\n",
    " - From the chart above,customers that have spent more than 5years with the company are least likely to churn.\n",
    " - It is also worthy to note that the longer customers are retained in the company,the less likely they are to leave the company."
   ]
  },
  {
   "cell_type": "markdown",
   "metadata": {},
   "source": [
    "**<span style=\"text-decoration: underline\">Evaluate the Revenue Loss per month</span>**"
   ]
  },
  {
   "cell_type": "code",
   "execution_count": 1525,
   "metadata": {},
   "outputs": [
    {
     "name": "stdout",
     "output_type": "stream",
     "text": [
      "Total Revenue Lost/Month due to Churn: $ 139130\n"
     ]
    },
    {
     "data": {
      "image/png": "[encoded data removed]",
      "text/plain": [
       "<matplotlib.figure.Figure at 0x232e4adb470>"
      ]
     },
     "metadata": {},
     "output_type": "display_data"
    }
   ],
   "source": [
    "\n",
    "Telco['revenue_loss'] = Telco['MonthlyCharges']*Telco['Churn_new'] \n",
    "plt.ylabel('Churn Percentage')\n",
    "plt.title('Percentage Churn Vs Tenures')\n",
    "plt.subplot(1,2,2)\n",
    "Total_revenue_Loss = Telco.groupby('Tenure Group')['revenue_loss'].sum().sort_values(ascending=False)\n",
    "(round(100*Total_revenue_Loss/Total_revenue_Loss.sum(),2)).plot.bar(color='g')\n",
    "plt.ylabel('Loss Percentage')\n",
    "plt.title('Percentage Revenue loss/Month Vs Tenure group')\n",
    "print('Total Revenue Lost/Month due to Churn: $',int(Total_revenue_Loss.sum()))\n"
   ]
  },
  {
   "cell_type": "markdown",
   "metadata": {},
   "source": [
    " Remark:\n",
    " - Customers with less that 1 year have highest churn rate and incures highest loss to the business\n",
    " - Considering the current timeframe,the business is loosing 140k(approx)\n",
    " \n",
    " "
   ]
  },
  {
   "cell_type": "markdown",
   "metadata": {},
   "source": [
    "**<span style=\"text-decoration: underline\">Search if tenure has any story to tell with respect to churn </span>**"
   ]
  },
  {
   "cell_type": "code",
   "execution_count": 1761,
   "metadata": {
    "scrolled": true
   },
   "outputs": [
    {
     "data": {
      "image/png": "[encoded data removed]",
      "text/plain": [
       "<matplotlib.figure.Figure at 0x232e9473588>"
      ]
     },
     "metadata": {},
     "output_type": "display_data"
    }
   ],
   "source": [
    "\n",
    "fig, ax = plt.subplots(figsize=(14,5))\n",
    "plt.subplot(1,2,1)\n",
    "sns.distplot(Telco.loc[Telco.Churn=='No','tenure'],hist=True,color='g',kde=False)\n",
    "plt.title('Histogram of tenure values for loyal customers',color='blue',fontsize=15)\n",
    "plt.xlabel('Tenure in Months',color='red',fontsize=15)\n",
    "plt.ylabel('People count')\n",
    "plt.subplot(1,2,2)\n",
    "sns.distplot(Telco.loc[Telco.Churn=='Yes','tenure'],hist=True,kde=False)\n",
    "plt.title('Histogram of tenure values for customers who left',color='blue',fontsize=15)\n",
    "plt.xlabel('Tenure in Months',color='red',fontsize=15)\n",
    "plt.ylabel('People count')\n",
    "plt.show()\n",
    "\n"
   ]
  },
  {
   "cell_type": "markdown",
   "metadata": {},
   "source": [
    "Remark: The two graphs above illustrates the following:\n",
    " - The behaviour of customers who are loyal and those not loyal to the company.\n",
    " \n",
    " <br>\n",
    " \n",
    " - The last bin on the left plot have highest concentration of customers and it seems like many old\n",
    "    customers that has stayed with the company for more than 60months have decided to still remain with the company.\n",
    "    \n",
    "    <br>\n",
    " - The first bin on the left plot seems to have more concentration(count==650) of customers except for the last bin on the left.The first bin accounts for customers with 0-5 months and it seems that before\n",
    " the tenth month customers are already rushing out of the company,what this implies is that the company don't have a good customers retention policy.\n",
    " \n",
    " <br>\n",
    " - Looking at the chart of customers who left,it appears that the number of customers leaving\n",
    " the company continues to increase at a constant rate.\n",
    " "
   ]
  },
  {
   "cell_type": "code",
   "execution_count": 1762,
   "metadata": {
    "scrolled": true
   },
   "outputs": [
    {
     "data": {
      "image/png": "[encoded data removed]",
      "text/plain": [
       "<matplotlib.figure.Figure at 0x232e7bc0dd8>"
      ]
     },
     "metadata": {},
     "output_type": "display_data"
    }
   ],
   "source": [
    "plt.rcParams['figure.figsize']=5,2\n",
    "#figsize=(14,15)\n",
    "plt.xlabel(' Remained (No) or Left (Yes)' )\n",
    "vis1=sns.boxplot(data=Telco,x='Churn',y='tenure')\n"
   ]
  },
  {
   "cell_type": "markdown",
   "metadata": {},
   "source": [
    " - Remark:In the boxplot above,the following is observed:\n",
    " - customers leaving the company are in lower quartile(25 percentile lower) of the boxplot and what this   implies is that an estimated 25% of customers are leaving the company and an estimated 75% of customers still remains with the company.\n",
    " \n",
    " <br>\n",
    " \n",
    " - It should also be observed that the upper quartile (25 percentile upper)  for customers leaving have around  20 months of tenure\n",
    "    which is less than 1 year tenure,this observation match with earlier discovery that customers with\n",
    "    less than 1 year are most likely to churn.\n",
    "    \n"
   ]
  },
  {
   "cell_type": "markdown",
   "metadata": {},
   "source": [
    " **<span style=\"text-decoration: underline\">Search if contract duration has any story to tell with respect to churn  </span> **"
   ]
  },
  {
   "cell_type": "code",
   "execution_count": 1764,
   "metadata": {},
   "outputs": [
    {
     "data": {
      "image/png": "[encoded data removed]",
      "text/plain": [
       "<matplotlib.figure.Figure at 0x232e9dde7b8>"
      ]
     },
     "metadata": {},
     "output_type": "display_data"
    }
   ],
   "source": [
    "fig, ax = plt.subplots(figsize=(14,5))\n",
    "plt.subplot(1,2,1)\n",
    "ax=sns.countplot(Telco.loc[Telco.Churn=='No','Contract'])\n",
    "plt.title('Barchart of Contract values for loyal customers',color='blue',fontsize=15)\n",
    "plt.xlabel('Contract duration',color='red',fontsize=15)\n",
    "plt.ylabel('People count',color='purple',fontsize=15)\n",
    "plt.subplot(1,2,2)\n",
    "plt.legend()\n",
    "ax=sns.countplot(Telco.loc[Telco.Churn=='Yes','Contract'])\n",
    "plt.title('Barchart of Contract values for customers who left',color='blue',fontsize=15)\n",
    "plt.xlabel('Contract duration',color='red',fontsize=15)\n",
    "plt.ylabel('People count',color='purple',fontsize=15)\n",
    "plt.show()"
   ]
  },
  {
   "cell_type": "markdown",
   "metadata": {},
   "source": [
    "Remark:\n",
    " - From the chart above,on the left chart showing loyal customers,there are approx 2500 customers that \n",
    " signed up for one month contract,and the no of customers that signed up for one year contract are approx 1300,while approx 1600 signed up for two year contract.\n",
    " \n",
    " <br>\n",
    " - The reasons why most people subscribed for one month contract could be as a result of the following:\n",
    "1. Customers just want to observe quality of services for a short period of time.\n",
    "2. The charge is least expensive.\n",
    "\n",
    "     <br>\n",
    "     \n",
    " - It is also worthy to note that in the chart above for loyal customers,there are more customers for two year contract than one year contract and this could be attributed to the following reasons:\n",
    " <br>\n",
    "1. Aggregate charge for two year contract is less expensive than one year contract.\n",
    "\n",
    " - So there should be some incentive to boost the number of customers that are subscribed to one year \n",
    " contract.\n",
    "\n",
    "<br>\n",
    "\n",
    " - On the left chart that displays no of customers leaving the company,it is observed that for one month subscription,1600 customers left the company,well this is a strong message that new customers should be treated with utmost care even though they are charged the least, but they are more likely to become two year subscribers and one year subscribers and if one month subscribers are churning,it simply implies that  retained customers for two year and one year subscriptions will keep going down.\n",
    "  "
   ]
  },
  {
   "cell_type": "markdown",
   "metadata": {},
   "source": [
    "3.**Data Wrangling**"
   ]
  },
  {
   "cell_type": "markdown",
   "metadata": {},
   "source": [
    "**<span style=\"text-decoration: underline\">Cleansing categorical features</span>**"
   ]
  },
  {
   "cell_type": "code",
   "execution_count": 884,
   "metadata": {},
   "outputs": [
    {
     "data": {
      "text/html": [
       "<div>\n",
       "<style scoped>\n",
       "    .dataframe tbody tr th:only-of-type {\n",
       "        vertical-align: middle;\n",
       "    }\n",
       "\n",
       "    .dataframe tbody tr th {\n",
       "        vertical-align: top;\n",
       "    }\n",
       "\n",
       "    .dataframe thead th {\n",
       "        text-align: right;\n",
       "    }\n",
       "</style>\n",
       "<table border=\"1\" class=\"dataframe\">\n",
       "  <thead>\n",
       "    <tr style=\"text-align: right;\">\n",
       "      <th></th>\n",
       "      <th>customerID</th>\n",
       "      <th>gender</th>\n",
       "      <th>SeniorCitizen</th>\n",
       "      <th>Partner</th>\n",
       "      <th>Dependents</th>\n",
       "      <th>tenure</th>\n",
       "      <th>PhoneService</th>\n",
       "      <th>MultipleLines</th>\n",
       "      <th>InternetService</th>\n",
       "      <th>OnlineSecurity</th>\n",
       "      <th>...</th>\n",
       "      <th>DeviceProtection</th>\n",
       "      <th>TechSupport</th>\n",
       "      <th>StreamingTV</th>\n",
       "      <th>StreamingMovies</th>\n",
       "      <th>Contract</th>\n",
       "      <th>PaperlessBilling</th>\n",
       "      <th>PaymentMethod</th>\n",
       "      <th>MonthlyCharges</th>\n",
       "      <th>TotalCharges</th>\n",
       "      <th>Churn</th>\n",
       "    </tr>\n",
       "  </thead>\n",
       "  <tbody>\n",
       "    <tr>\n",
       "      <th>7038</th>\n",
       "      <td>6840-RESVB</td>\n",
       "      <td>Male</td>\n",
       "      <td>0</td>\n",
       "      <td>1</td>\n",
       "      <td>1</td>\n",
       "      <td>24</td>\n",
       "      <td>Yes</td>\n",
       "      <td>1</td>\n",
       "      <td>DSL</td>\n",
       "      <td>1</td>\n",
       "      <td>...</td>\n",
       "      <td>1</td>\n",
       "      <td>1</td>\n",
       "      <td>1</td>\n",
       "      <td>Yes</td>\n",
       "      <td>One year</td>\n",
       "      <td>1</td>\n",
       "      <td>Mailed check</td>\n",
       "      <td>84.80</td>\n",
       "      <td>1990.5</td>\n",
       "      <td>0</td>\n",
       "    </tr>\n",
       "    <tr>\n",
       "      <th>7039</th>\n",
       "      <td>2234-XADUH</td>\n",
       "      <td>Female</td>\n",
       "      <td>0</td>\n",
       "      <td>1</td>\n",
       "      <td>1</td>\n",
       "      <td>72</td>\n",
       "      <td>Yes</td>\n",
       "      <td>1</td>\n",
       "      <td>Fiber optic</td>\n",
       "      <td>0</td>\n",
       "      <td>...</td>\n",
       "      <td>1</td>\n",
       "      <td>0</td>\n",
       "      <td>1</td>\n",
       "      <td>Yes</td>\n",
       "      <td>One year</td>\n",
       "      <td>1</td>\n",
       "      <td>Credit card (automatic)</td>\n",
       "      <td>103.20</td>\n",
       "      <td>7362.9</td>\n",
       "      <td>0</td>\n",
       "    </tr>\n",
       "    <tr>\n",
       "      <th>7040</th>\n",
       "      <td>4801-JZAZL</td>\n",
       "      <td>Female</td>\n",
       "      <td>0</td>\n",
       "      <td>1</td>\n",
       "      <td>1</td>\n",
       "      <td>11</td>\n",
       "      <td>No</td>\n",
       "      <td>No phone service</td>\n",
       "      <td>DSL</td>\n",
       "      <td>1</td>\n",
       "      <td>...</td>\n",
       "      <td>0</td>\n",
       "      <td>0</td>\n",
       "      <td>0</td>\n",
       "      <td>No</td>\n",
       "      <td>Month-to-month</td>\n",
       "      <td>1</td>\n",
       "      <td>Electronic check</td>\n",
       "      <td>29.60</td>\n",
       "      <td>346.45</td>\n",
       "      <td>0</td>\n",
       "    </tr>\n",
       "    <tr>\n",
       "      <th>7041</th>\n",
       "      <td>8361-LTMKD</td>\n",
       "      <td>Male</td>\n",
       "      <td>1</td>\n",
       "      <td>1</td>\n",
       "      <td>0</td>\n",
       "      <td>4</td>\n",
       "      <td>Yes</td>\n",
       "      <td>1</td>\n",
       "      <td>Fiber optic</td>\n",
       "      <td>0</td>\n",
       "      <td>...</td>\n",
       "      <td>0</td>\n",
       "      <td>0</td>\n",
       "      <td>0</td>\n",
       "      <td>No</td>\n",
       "      <td>Month-to-month</td>\n",
       "      <td>1</td>\n",
       "      <td>Mailed check</td>\n",
       "      <td>74.40</td>\n",
       "      <td>306.6</td>\n",
       "      <td>1</td>\n",
       "    </tr>\n",
       "    <tr>\n",
       "      <th>7042</th>\n",
       "      <td>3186-AJIEK</td>\n",
       "      <td>Male</td>\n",
       "      <td>0</td>\n",
       "      <td>0</td>\n",
       "      <td>0</td>\n",
       "      <td>66</td>\n",
       "      <td>Yes</td>\n",
       "      <td>0</td>\n",
       "      <td>Fiber optic</td>\n",
       "      <td>1</td>\n",
       "      <td>...</td>\n",
       "      <td>1</td>\n",
       "      <td>1</td>\n",
       "      <td>1</td>\n",
       "      <td>Yes</td>\n",
       "      <td>Two year</td>\n",
       "      <td>1</td>\n",
       "      <td>Bank transfer (automatic)</td>\n",
       "      <td>105.65</td>\n",
       "      <td>6844.5</td>\n",
       "      <td>0</td>\n",
       "    </tr>\n",
       "  </tbody>\n",
       "</table>\n",
       "<p>5 rows × 21 columns</p>\n",
       "</div>"
      ],
      "text/plain": [
       "      customerID  gender  SeniorCitizen  Partner  Dependents  tenure  \\\n",
       "7038  6840-RESVB    Male              0        1           1      24   \n",
       "7039  2234-XADUH  Female              0        1           1      72   \n",
       "7040  4801-JZAZL  Female              0        1           1      11   \n",
       "7041  8361-LTMKD    Male              1        1           0       4   \n",
       "7042  3186-AJIEK    Male              0        0           0      66   \n",
       "\n",
       "     PhoneService     MultipleLines InternetService OnlineSecurity  ...  \\\n",
       "7038          Yes                 1             DSL              1  ...   \n",
       "7039          Yes                 1     Fiber optic              0  ...   \n",
       "7040           No  No phone service             DSL              1  ...   \n",
       "7041          Yes                 1     Fiber optic              0  ...   \n",
       "7042          Yes                 0     Fiber optic              1  ...   \n",
       "\n",
       "     DeviceProtection TechSupport StreamingTV StreamingMovies        Contract  \\\n",
       "7038                1           1           1             Yes        One year   \n",
       "7039                1           0           1             Yes        One year   \n",
       "7040                0           0           0              No  Month-to-month   \n",
       "7041                0           0           0              No  Month-to-month   \n",
       "7042                1           1           1             Yes        Two year   \n",
       "\n",
       "     PaperlessBilling              PaymentMethod MonthlyCharges  TotalCharges  \\\n",
       "7038                1               Mailed check          84.80        1990.5   \n",
       "7039                1    Credit card (automatic)         103.20        7362.9   \n",
       "7040                1           Electronic check          29.60        346.45   \n",
       "7041                1               Mailed check          74.40         306.6   \n",
       "7042                1  Bank transfer (automatic)         105.65        6844.5   \n",
       "\n",
       "     Churn  \n",
       "7038     0  \n",
       "7039     0  \n",
       "7040     0  \n",
       "7041     1  \n",
       "7042     0  \n",
       "\n",
       "[5 rows x 21 columns]"
      ]
     },
     "execution_count": 884,
     "metadata": {},
     "output_type": "execute_result"
    }
   ],
   "source": [
    "columns_to_convert=['Churn','PaperlessBilling','StreamingTV','TechSupport','DeviceProtection','OnlineBackup','OnlineSecurity','MultipleLines',\\\n",
    "                   'Partner','Dependents',]\n",
    "for item in columns_to_convert:\n",
    "    Telco[item].replace(to_replace='Yes',value=1,inplace=True)\n",
    "    Telco[item].replace(to_replace='No',value=0,inplace=True)\n",
    "    Telco[item].replace(to_replace='no internet',value=0,inplace=True)\n",
    "    Telco[item].replace(to_replace='no phone service',value=0,inplace=True)\n",
    "Telco.tail()"
   ]
  },
  {
   "cell_type": "code",
   "execution_count": 868,
   "metadata": {
    "scrolled": true
   },
   "outputs": [],
   "source": [
    "\n",
    "Telco[\"TotalCharges\"] = Telco.TotalCharges.convert_objects(convert_numeric=True)\n",
    "Telco['tenure']= Telco.TotalCharges.convert_objects(convert_numeric=True)\n",
    "Telco=Telco.fillna(value=0)   "
   ]
  },
  {
   "cell_type": "markdown",
   "metadata": {},
   "source": [
    "Remark: Above,we converted TotalCharges and tenure to float data types,this conversion we enable us to\n",
    "    verify there gaussian distribution and also normalize if possible"
   ]
  },
  {
   "cell_type": "markdown",
   "metadata": {},
   "source": [
    "  **<span style=\"text-decoration: underline\">Check The Gaussian Distribution of continous features</span> **"
   ]
  },
  {
   "cell_type": "code",
   "execution_count": 1772,
   "metadata": {},
   "outputs": [
    {
     "data": {
      "image/png": "[encoded data removed]",
      "text/plain": [
       "<matplotlib.figure.Figure at 0x232e9461ba8>"
      ]
     },
     "metadata": {},
     "output_type": "display_data"
    }
   ],
   "source": [
    "sns.set_style('dark',{'axes.facecolor':'black'})\n",
    "f,axes=plt.subplots(2, 2, figsize=(15,10)) \n",
    "sns.set_style('whitegrid')    \n",
    "vis1=sns.distplot(Telco['tenure'],ax=axes[0,0])\n",
    "vis2=sns.distplot(Telco['TotalCharges'],ax=axes[1,1])\n",
    "vis3=sns.distplot(Telco['MonthlyCharges'],ax=axes[1,0])\n",
    "plt.show()\n",
    " "
   ]
  },
  {
   "cell_type": "markdown",
   "metadata": {},
   "source": [
    "Remark:\n",
    "    As we can see from above,the three continous features in the data set are not normally distributed.\n",
    "    Therefore,we will have to apply normalization on these features."
   ]
  },
  {
   "cell_type": "markdown",
   "metadata": {},
   "source": [
    "**<span style=\"text-decoration: underline\">Normalizing Continuous features</span> **"
   ]
  },
  {
   "cell_type": "code",
   "execution_count": 885,
   "metadata": {},
   "outputs": [
    {
     "name": "stdout",
     "output_type": "stream",
     "text": [
      "<class 'pandas.core.frame.DataFrame'>\n",
      "RangeIndex: 7043 entries, 0 to 7042\n",
      "Data columns (total 21 columns):\n",
      "customerID          7043 non-null object\n",
      "gender              7043 non-null object\n",
      "SeniorCitizen       7043 non-null int64\n",
      "Partner             7043 non-null int64\n",
      "Dependents          7043 non-null int64\n",
      "tenure              7043 non-null int64\n",
      "PhoneService        7043 non-null object\n",
      "MultipleLines       7043 non-null object\n",
      "InternetService     7043 non-null object\n",
      "OnlineSecurity      7043 non-null object\n",
      "OnlineBackup        7043 non-null object\n",
      "DeviceProtection    7043 non-null object\n",
      "TechSupport         7043 non-null object\n",
      "StreamingTV         7043 non-null object\n",
      "StreamingMovies     7043 non-null object\n",
      "Contract            7043 non-null object\n",
      "PaperlessBilling    7043 non-null int64\n",
      "PaymentMethod       7043 non-null object\n",
      "MonthlyCharges      7043 non-null float64\n",
      "TotalCharges        7032 non-null float64\n",
      "Churn               7043 non-null int64\n",
      "dtypes: float64(2), int64(6), object(13)\n",
      "memory usage: 1.1+ MB\n"
     ]
    }
   ],
   "source": [
    "Telco['TotalCharges'] = Telco['TotalCharges'].replace(r'\\s+', np.nan, regex=True)\n",
    "Telco['TotalCharges'] = pd.to_numeric(Telco['TotalCharges'])\n",
    "Telco.info()"
   ]
  },
  {
   "cell_type": "code",
   "execution_count": 886,
   "metadata": {},
   "outputs": [],
   "source": [
    "Telco=Telco.fillna(value=0)"
   ]
  },
  {
   "cell_type": "code",
   "execution_count": 887,
   "metadata": {},
   "outputs": [],
   "source": [
    "from sklearn.preprocessing import normalize\n",
    "continuous_columns = ['tenure','MonthlyCharges','TotalCharges']\n",
    "continuous_data= Telco[continuous_columns]\n",
    "normalized_data = normalize(continuous_data)"
   ]
  },
  {
   "cell_type": "code",
   "execution_count": 888,
   "metadata": {},
   "outputs": [
    {
     "data": {
      "text/plain": [
       "array([[0.02368203, 0.70690847, 0.70690847],\n",
       "       [0.0179831 , 0.0301217 , 0.99938446],\n",
       "       [0.01655198, 0.44566203, 0.89504826],\n",
       "       ...,\n",
       "       [0.03161954, 0.08508531, 0.99587183],\n",
       "       [0.01267735, 0.23579879, 0.97171921],\n",
       "       [0.00964118, 0.0154332 , 0.99983442]])"
      ]
     },
     "execution_count": 888,
     "metadata": {},
     "output_type": "execute_result"
    }
   ],
   "source": [
    "normalized_data"
   ]
  },
  {
   "cell_type": "markdown",
   "metadata": {},
   "source": [
    "- Remark:Whenever continous features are not of the same scale or when they fail to obey gaussian distribution\n",
    "    such features should be normalized,as a result we were able to verify from above graph that the 3 continous \n",
    "    features are not on the same scale so they were normalized.\n",
    "- For a machine learning algorithm to perform effectively,the features need to be on the same scale,\n",
    "    otherwise there will be a bias in predictions."
   ]
  },
  {
   "cell_type": "code",
   "execution_count": 889,
   "metadata": {},
   "outputs": [],
   "source": [
    "normalized_data_df =pd.DataFrame(normalized_data , columns=continuous_columns) \n",
    "Telco = Telco.drop(continuous_columns, axis=1)\n",
    "Final_data = pd.concat([Telco, normalized_data_df ], axis=1)"
   ]
  },
  {
   "cell_type": "code",
   "execution_count": 890,
   "metadata": {},
   "outputs": [],
   "source": [
    "\n",
    "Final_data.drop('customerID',inplace=True,axis=1)"
   ]
  },
  {
   "cell_type": "markdown",
   "metadata": {},
   "source": [
    "Remark:Above,a new data frame was created(normalized_data_df).In this new dataframe,the normalized features\n",
    "        were merged to the original dataframe(Telco),also CustomerID was dropped intuitively because it will contribute little or nothing to the prediction"
   ]
  },
  {
   "cell_type": "code",
   "execution_count": 892,
   "metadata": {},
   "outputs": [
    {
     "data": {
      "text/html": [
       "<div>\n",
       "<style scoped>\n",
       "    .dataframe tbody tr th:only-of-type {\n",
       "        vertical-align: middle;\n",
       "    }\n",
       "\n",
       "    .dataframe tbody tr th {\n",
       "        vertical-align: top;\n",
       "    }\n",
       "\n",
       "    .dataframe thead th {\n",
       "        text-align: right;\n",
       "    }\n",
       "</style>\n",
       "<table border=\"1\" class=\"dataframe\">\n",
       "  <thead>\n",
       "    <tr style=\"text-align: right;\">\n",
       "      <th></th>\n",
       "      <th>SeniorCitizen</th>\n",
       "      <th>Partner</th>\n",
       "      <th>Dependents</th>\n",
       "      <th>PaperlessBilling</th>\n",
       "      <th>Churn</th>\n",
       "      <th>tenure</th>\n",
       "      <th>MonthlyCharges</th>\n",
       "      <th>TotalCharges</th>\n",
       "      <th>gender_Female</th>\n",
       "      <th>gender_Male</th>\n",
       "      <th>...</th>\n",
       "      <th>StreamingMovies_No</th>\n",
       "      <th>StreamingMovies_No internet service</th>\n",
       "      <th>StreamingMovies_Yes</th>\n",
       "      <th>Contract_Month-to-month</th>\n",
       "      <th>Contract_One year</th>\n",
       "      <th>Contract_Two year</th>\n",
       "      <th>PaymentMethod_Bank transfer (automatic)</th>\n",
       "      <th>PaymentMethod_Credit card (automatic)</th>\n",
       "      <th>PaymentMethod_Electronic check</th>\n",
       "      <th>PaymentMethod_Mailed check</th>\n",
       "    </tr>\n",
       "  </thead>\n",
       "  <tbody>\n",
       "    <tr>\n",
       "      <th>0</th>\n",
       "      <td>0</td>\n",
       "      <td>1</td>\n",
       "      <td>0</td>\n",
       "      <td>1</td>\n",
       "      <td>0</td>\n",
       "      <td>0.023682</td>\n",
       "      <td>0.706908</td>\n",
       "      <td>0.706908</td>\n",
       "      <td>1</td>\n",
       "      <td>0</td>\n",
       "      <td>...</td>\n",
       "      <td>1</td>\n",
       "      <td>0</td>\n",
       "      <td>0</td>\n",
       "      <td>1</td>\n",
       "      <td>0</td>\n",
       "      <td>0</td>\n",
       "      <td>0</td>\n",
       "      <td>0</td>\n",
       "      <td>1</td>\n",
       "      <td>0</td>\n",
       "    </tr>\n",
       "    <tr>\n",
       "      <th>1</th>\n",
       "      <td>0</td>\n",
       "      <td>0</td>\n",
       "      <td>0</td>\n",
       "      <td>0</td>\n",
       "      <td>0</td>\n",
       "      <td>0.017983</td>\n",
       "      <td>0.030122</td>\n",
       "      <td>0.999384</td>\n",
       "      <td>0</td>\n",
       "      <td>1</td>\n",
       "      <td>...</td>\n",
       "      <td>1</td>\n",
       "      <td>0</td>\n",
       "      <td>0</td>\n",
       "      <td>0</td>\n",
       "      <td>1</td>\n",
       "      <td>0</td>\n",
       "      <td>0</td>\n",
       "      <td>0</td>\n",
       "      <td>0</td>\n",
       "      <td>1</td>\n",
       "    </tr>\n",
       "    <tr>\n",
       "      <th>2</th>\n",
       "      <td>0</td>\n",
       "      <td>0</td>\n",
       "      <td>0</td>\n",
       "      <td>1</td>\n",
       "      <td>1</td>\n",
       "      <td>0.016552</td>\n",
       "      <td>0.445662</td>\n",
       "      <td>0.895048</td>\n",
       "      <td>0</td>\n",
       "      <td>1</td>\n",
       "      <td>...</td>\n",
       "      <td>1</td>\n",
       "      <td>0</td>\n",
       "      <td>0</td>\n",
       "      <td>1</td>\n",
       "      <td>0</td>\n",
       "      <td>0</td>\n",
       "      <td>0</td>\n",
       "      <td>0</td>\n",
       "      <td>0</td>\n",
       "      <td>1</td>\n",
       "    </tr>\n",
       "    <tr>\n",
       "      <th>3</th>\n",
       "      <td>0</td>\n",
       "      <td>0</td>\n",
       "      <td>0</td>\n",
       "      <td>0</td>\n",
       "      <td>0</td>\n",
       "      <td>0.024433</td>\n",
       "      <td>0.022967</td>\n",
       "      <td>0.999438</td>\n",
       "      <td>0</td>\n",
       "      <td>1</td>\n",
       "      <td>...</td>\n",
       "      <td>1</td>\n",
       "      <td>0</td>\n",
       "      <td>0</td>\n",
       "      <td>0</td>\n",
       "      <td>1</td>\n",
       "      <td>0</td>\n",
       "      <td>1</td>\n",
       "      <td>0</td>\n",
       "      <td>0</td>\n",
       "      <td>0</td>\n",
       "    </tr>\n",
       "    <tr>\n",
       "      <th>4</th>\n",
       "      <td>0</td>\n",
       "      <td>0</td>\n",
       "      <td>0</td>\n",
       "      <td>1</td>\n",
       "      <td>1</td>\n",
       "      <td>0.011952</td>\n",
       "      <td>0.422512</td>\n",
       "      <td>0.906279</td>\n",
       "      <td>1</td>\n",
       "      <td>0</td>\n",
       "      <td>...</td>\n",
       "      <td>1</td>\n",
       "      <td>0</td>\n",
       "      <td>0</td>\n",
       "      <td>1</td>\n",
       "      <td>0</td>\n",
       "      <td>0</td>\n",
       "      <td>0</td>\n",
       "      <td>0</td>\n",
       "      <td>1</td>\n",
       "      <td>0</td>\n",
       "    </tr>\n",
       "  </tbody>\n",
       "</table>\n",
       "<p>5 rows × 43 columns</p>\n",
       "</div>"
      ],
      "text/plain": [
       "   SeniorCitizen  Partner  Dependents  PaperlessBilling  Churn    tenure  \\\n",
       "0              0        1           0                 1      0  0.023682   \n",
       "1              0        0           0                 0      0  0.017983   \n",
       "2              0        0           0                 1      1  0.016552   \n",
       "3              0        0           0                 0      0  0.024433   \n",
       "4              0        0           0                 1      1  0.011952   \n",
       "\n",
       "   MonthlyCharges  TotalCharges  gender_Female  gender_Male  ...  \\\n",
       "0        0.706908      0.706908              1            0  ...   \n",
       "1        0.030122      0.999384              0            1  ...   \n",
       "2        0.445662      0.895048              0            1  ...   \n",
       "3        0.022967      0.999438              0            1  ...   \n",
       "4        0.422512      0.906279              1            0  ...   \n",
       "\n",
       "   StreamingMovies_No  StreamingMovies_No internet service  \\\n",
       "0                   1                                    0   \n",
       "1                   1                                    0   \n",
       "2                   1                                    0   \n",
       "3                   1                                    0   \n",
       "4                   1                                    0   \n",
       "\n",
       "   StreamingMovies_Yes  Contract_Month-to-month  Contract_One year  \\\n",
       "0                    0                        1                  0   \n",
       "1                    0                        0                  1   \n",
       "2                    0                        1                  0   \n",
       "3                    0                        0                  1   \n",
       "4                    0                        1                  0   \n",
       "\n",
       "   Contract_Two year  PaymentMethod_Bank transfer (automatic)  \\\n",
       "0                  0                                        0   \n",
       "1                  0                                        0   \n",
       "2                  0                                        0   \n",
       "3                  0                                        1   \n",
       "4                  0                                        0   \n",
       "\n",
       "   PaymentMethod_Credit card (automatic)  PaymentMethod_Electronic check  \\\n",
       "0                                      0                               1   \n",
       "1                                      0                               0   \n",
       "2                                      0                               0   \n",
       "3                                      0                               0   \n",
       "4                                      0                               1   \n",
       "\n",
       "   PaymentMethod_Mailed check  \n",
       "0                           0  \n",
       "1                           1  \n",
       "2                           1  \n",
       "3                           0  \n",
       "4                           0  \n",
       "\n",
       "[5 rows x 43 columns]"
      ]
     },
     "execution_count": 892,
     "metadata": {},
     "output_type": "execute_result"
    }
   ],
   "source": [
    "ml_Telco=pd.get_dummies(Final_data)\n",
    "ml_Telco.head()"
   ]
  },
  {
   "cell_type": "markdown",
   "metadata": {},
   "source": [
    "remarks:\n",
    "<br>\n",
    "with the code above,dummy variables have been created for factor variables"
   ]
  },
  {
   "cell_type": "code",
   "execution_count": 894,
   "metadata": {},
   "outputs": [
    {
     "data": {
      "text/html": [
       "<div>\n",
       "<style scoped>\n",
       "    .dataframe tbody tr th:only-of-type {\n",
       "        vertical-align: middle;\n",
       "    }\n",
       "\n",
       "    .dataframe tbody tr th {\n",
       "        vertical-align: top;\n",
       "    }\n",
       "\n",
       "    .dataframe thead th {\n",
       "        text-align: right;\n",
       "    }\n",
       "</style>\n",
       "<table border=\"1\" class=\"dataframe\">\n",
       "  <thead>\n",
       "    <tr style=\"text-align: right;\">\n",
       "      <th></th>\n",
       "      <th>SeniorCitizen</th>\n",
       "      <th>Partner</th>\n",
       "      <th>Dependents</th>\n",
       "      <th>PaperlessBilling</th>\n",
       "      <th>Churn</th>\n",
       "      <th>tenure</th>\n",
       "      <th>MonthlyCharges</th>\n",
       "      <th>TotalCharges</th>\n",
       "      <th>gender_Male</th>\n",
       "      <th>PhoneService_Yes</th>\n",
       "      <th>...</th>\n",
       "      <th>TechSupport_No internet service</th>\n",
       "      <th>StreamingTV_1</th>\n",
       "      <th>StreamingTV_No internet service</th>\n",
       "      <th>StreamingMovies_No internet service</th>\n",
       "      <th>StreamingMovies_Yes</th>\n",
       "      <th>Contract_One year</th>\n",
       "      <th>Contract_Two year</th>\n",
       "      <th>PaymentMethod_Credit card (automatic)</th>\n",
       "      <th>PaymentMethod_Electronic check</th>\n",
       "      <th>PaymentMethod_Mailed check</th>\n",
       "    </tr>\n",
       "  </thead>\n",
       "  <tbody>\n",
       "    <tr>\n",
       "      <th>0</th>\n",
       "      <td>0</td>\n",
       "      <td>1</td>\n",
       "      <td>0</td>\n",
       "      <td>1</td>\n",
       "      <td>0</td>\n",
       "      <td>0.023682</td>\n",
       "      <td>0.706908</td>\n",
       "      <td>0.706908</td>\n",
       "      <td>0</td>\n",
       "      <td>0</td>\n",
       "      <td>...</td>\n",
       "      <td>0</td>\n",
       "      <td>0</td>\n",
       "      <td>0</td>\n",
       "      <td>0</td>\n",
       "      <td>0</td>\n",
       "      <td>0</td>\n",
       "      <td>0</td>\n",
       "      <td>0</td>\n",
       "      <td>1</td>\n",
       "      <td>0</td>\n",
       "    </tr>\n",
       "    <tr>\n",
       "      <th>1</th>\n",
       "      <td>0</td>\n",
       "      <td>0</td>\n",
       "      <td>0</td>\n",
       "      <td>0</td>\n",
       "      <td>0</td>\n",
       "      <td>0.017983</td>\n",
       "      <td>0.030122</td>\n",
       "      <td>0.999384</td>\n",
       "      <td>1</td>\n",
       "      <td>1</td>\n",
       "      <td>...</td>\n",
       "      <td>0</td>\n",
       "      <td>0</td>\n",
       "      <td>0</td>\n",
       "      <td>0</td>\n",
       "      <td>0</td>\n",
       "      <td>1</td>\n",
       "      <td>0</td>\n",
       "      <td>0</td>\n",
       "      <td>0</td>\n",
       "      <td>1</td>\n",
       "    </tr>\n",
       "    <tr>\n",
       "      <th>2</th>\n",
       "      <td>0</td>\n",
       "      <td>0</td>\n",
       "      <td>0</td>\n",
       "      <td>1</td>\n",
       "      <td>1</td>\n",
       "      <td>0.016552</td>\n",
       "      <td>0.445662</td>\n",
       "      <td>0.895048</td>\n",
       "      <td>1</td>\n",
       "      <td>1</td>\n",
       "      <td>...</td>\n",
       "      <td>0</td>\n",
       "      <td>0</td>\n",
       "      <td>0</td>\n",
       "      <td>0</td>\n",
       "      <td>0</td>\n",
       "      <td>0</td>\n",
       "      <td>0</td>\n",
       "      <td>0</td>\n",
       "      <td>0</td>\n",
       "      <td>1</td>\n",
       "    </tr>\n",
       "    <tr>\n",
       "      <th>3</th>\n",
       "      <td>0</td>\n",
       "      <td>0</td>\n",
       "      <td>0</td>\n",
       "      <td>0</td>\n",
       "      <td>0</td>\n",
       "      <td>0.024433</td>\n",
       "      <td>0.022967</td>\n",
       "      <td>0.999438</td>\n",
       "      <td>1</td>\n",
       "      <td>0</td>\n",
       "      <td>...</td>\n",
       "      <td>0</td>\n",
       "      <td>0</td>\n",
       "      <td>0</td>\n",
       "      <td>0</td>\n",
       "      <td>0</td>\n",
       "      <td>1</td>\n",
       "      <td>0</td>\n",
       "      <td>0</td>\n",
       "      <td>0</td>\n",
       "      <td>0</td>\n",
       "    </tr>\n",
       "    <tr>\n",
       "      <th>4</th>\n",
       "      <td>0</td>\n",
       "      <td>0</td>\n",
       "      <td>0</td>\n",
       "      <td>1</td>\n",
       "      <td>1</td>\n",
       "      <td>0.011952</td>\n",
       "      <td>0.422512</td>\n",
       "      <td>0.906279</td>\n",
       "      <td>0</td>\n",
       "      <td>1</td>\n",
       "      <td>...</td>\n",
       "      <td>0</td>\n",
       "      <td>0</td>\n",
       "      <td>0</td>\n",
       "      <td>0</td>\n",
       "      <td>0</td>\n",
       "      <td>0</td>\n",
       "      <td>0</td>\n",
       "      <td>0</td>\n",
       "      <td>1</td>\n",
       "      <td>0</td>\n",
       "    </tr>\n",
       "  </tbody>\n",
       "</table>\n",
       "<p>5 rows × 31 columns</p>\n",
       "</div>"
      ],
      "text/plain": [
       "   SeniorCitizen  Partner  Dependents  PaperlessBilling  Churn    tenure  \\\n",
       "0              0        1           0                 1      0  0.023682   \n",
       "1              0        0           0                 0      0  0.017983   \n",
       "2              0        0           0                 1      1  0.016552   \n",
       "3              0        0           0                 0      0  0.024433   \n",
       "4              0        0           0                 1      1  0.011952   \n",
       "\n",
       "   MonthlyCharges  TotalCharges  gender_Male  PhoneService_Yes  ...  \\\n",
       "0        0.706908      0.706908            0                 0  ...   \n",
       "1        0.030122      0.999384            1                 1  ...   \n",
       "2        0.445662      0.895048            1                 1  ...   \n",
       "3        0.022967      0.999438            1                 0  ...   \n",
       "4        0.422512      0.906279            0                 1  ...   \n",
       "\n",
       "   TechSupport_No internet service  StreamingTV_1  \\\n",
       "0                                0              0   \n",
       "1                                0              0   \n",
       "2                                0              0   \n",
       "3                                0              0   \n",
       "4                                0              0   \n",
       "\n",
       "   StreamingTV_No internet service  StreamingMovies_No internet service  \\\n",
       "0                                0                                    0   \n",
       "1                                0                                    0   \n",
       "2                                0                                    0   \n",
       "3                                0                                    0   \n",
       "4                                0                                    0   \n",
       "\n",
       "   StreamingMovies_Yes  Contract_One year  Contract_Two year  \\\n",
       "0                    0                  0                  0   \n",
       "1                    0                  1                  0   \n",
       "2                    0                  0                  0   \n",
       "3                    0                  1                  0   \n",
       "4                    0                  0                  0   \n",
       "\n",
       "   PaymentMethod_Credit card (automatic)  PaymentMethod_Electronic check  \\\n",
       "0                                      0                               1   \n",
       "1                                      0                               0   \n",
       "2                                      0                               0   \n",
       "3                                      0                               0   \n",
       "4                                      0                               1   \n",
       "\n",
       "   PaymentMethod_Mailed check  \n",
       "0                           0  \n",
       "1                           1  \n",
       "2                           1  \n",
       "3                           0  \n",
       "4                           0  \n",
       "\n",
       "[5 rows x 31 columns]"
      ]
     },
     "execution_count": 894,
     "metadata": {},
     "output_type": "execute_result"
    }
   ],
   "source": [
    "ml_Telco=pd.get_dummies(Final_data,drop_first=True)\n",
    "ml_Telco.head(5)\n"
   ]
  },
  {
   "cell_type": "markdown",
   "metadata": {},
   "source": [
    "4.**Feature Engineering( feature selection)**"
   ]
  },
  {
   "cell_type": "code",
   "execution_count": 895,
   "metadata": {},
   "outputs": [],
   "source": [
    "import pandas as pd\n",
    "import numpy as np\n",
    "from sklearn.model_selection import train_test_split\n",
    "from sklearn.feature_selection import VarianceThreshold\n",
    "import seaborn as sns\n",
    "import matplotlib.pyplot as plt\n",
    "%matplotlib inline\n",
    "from sklearn.model_selection import train_test_split"
   ]
  },
  {
   "cell_type": "code",
   "execution_count": 896,
   "metadata": {},
   "outputs": [
    {
     "data": {
      "text/plain": [
       "((4930, 30), (2113, 30))"
      ]
     },
     "execution_count": 896,
     "metadata": {},
     "output_type": "execute_result"
    }
   ],
   "source": [
    "x_train,x_test,y_train,y_test=train_test_split(\n",
    "    ml_Telco.drop(labels=['Churn'],axis=1),\n",
    "    ml_Telco['Churn'],\n",
    "    test_size=0.3,\n",
    "    random_state=0)\n",
    "x_train.shape,x_test.shape"
   ]
  },
  {
   "cell_type": "markdown",
   "metadata": {},
   "source": [
    "**<span style=\"Visualize correlated features\">Correlation test</span> **"
   ]
  },
  {
   "cell_type": "code",
   "execution_count": 897,
   "metadata": {},
   "outputs": [
    {
     "data": {
      "image/png": "[encoded data removed]",
      "text/plain": [
       "<matplotlib.figure.Figure at 0x2d4c7538fd0>"
      ]
     },
     "metadata": {
      "needs_background": "light"
     },
     "output_type": "display_data"
    }
   ],
   "source": [
    "corrmat=x_train.corr()\n",
    "fig,ax=plt.subplots()\n",
    "fig.set_size_inches(11,11)\n",
    "sns.heatmap(corrmat)\n",
    "plt.show()"
   ]
  },
  {
   "cell_type": "markdown",
   "metadata": {},
   "source": [
    "**<span style=\"text-decoration: underline\">Brute force method to check for features with high correlation</span>** "
   ]
  },
  {
   "cell_type": "code",
   "execution_count": 899,
   "metadata": {},
   "outputs": [],
   "source": [
    "def correlation(dataset,threshold):\n",
    "    col_corr=set()\n",
    "    corr_matrix=dataset.corr()\n",
    "    for i in range(len(corr_matrix.columns)):\n",
    "        for j in range(i):\n",
    "            if abs(corr_matrix.iloc[i,j])>threshold:\n",
    "                colname=corr_matrix.columns[i]\n",
    "                col_corr.add(colname)\n",
    "    return col_corr"
   ]
  },
  {
   "cell_type": "code",
   "execution_count": 900,
   "metadata": {},
   "outputs": [
    {
     "name": "stdout",
     "output_type": "stream",
     "text": [
      "9\n"
     ]
    }
   ],
   "source": [
    "corr_features=correlation(x_train,0.8)\n",
    "print(len(set(corr_features)))"
   ]
  },
  {
   "cell_type": "markdown",
   "metadata": {},
   "source": [
    "**<span style=\"text-decoration: underline\">Build a data frame with correlation between features</span>** "
   ]
  },
  {
   "cell_type": "code",
   "execution_count": 901,
   "metadata": {},
   "outputs": [
    {
     "data": {
      "text/html": [
       "<div>\n",
       "<style scoped>\n",
       "    .dataframe tbody tr th:only-of-type {\n",
       "        vertical-align: middle;\n",
       "    }\n",
       "\n",
       "    .dataframe tbody tr th {\n",
       "        vertical-align: top;\n",
       "    }\n",
       "\n",
       "    .dataframe thead th {\n",
       "        text-align: right;\n",
       "    }\n",
       "</style>\n",
       "<table border=\"1\" class=\"dataframe\">\n",
       "  <thead>\n",
       "    <tr style=\"text-align: right;\">\n",
       "      <th></th>\n",
       "      <th>feature1</th>\n",
       "      <th>feature2</th>\n",
       "      <th>corr</th>\n",
       "    </tr>\n",
       "  </thead>\n",
       "  <tbody>\n",
       "    <tr>\n",
       "      <th>0</th>\n",
       "      <td>MonthlyCharges</td>\n",
       "      <td>TotalCharges</td>\n",
       "      <td>0.934986</td>\n",
       "    </tr>\n",
       "    <tr>\n",
       "      <th>1</th>\n",
       "      <td>TotalCharges</td>\n",
       "      <td>MonthlyCharges</td>\n",
       "      <td>0.934986</td>\n",
       "    </tr>\n",
       "    <tr>\n",
       "      <th>2</th>\n",
       "      <td>tenure</td>\n",
       "      <td>DeviceProtection_No internet service</td>\n",
       "      <td>0.910730</td>\n",
       "    </tr>\n",
       "    <tr>\n",
       "      <th>3</th>\n",
       "      <td>InternetService_No</td>\n",
       "      <td>tenure</td>\n",
       "      <td>0.910730</td>\n",
       "    </tr>\n",
       "    <tr>\n",
       "      <th>4</th>\n",
       "      <td>TechSupport_No internet service</td>\n",
       "      <td>tenure</td>\n",
       "      <td>0.910730</td>\n",
       "    </tr>\n",
       "  </tbody>\n",
       "</table>\n",
       "</div>"
      ],
      "text/plain": [
       "                          feature1                              feature2  \\\n",
       "0                   MonthlyCharges                          TotalCharges   \n",
       "1                     TotalCharges                        MonthlyCharges   \n",
       "2                           tenure  DeviceProtection_No internet service   \n",
       "3               InternetService_No                                tenure   \n",
       "4  TechSupport_No internet service                                tenure   \n",
       "\n",
       "       corr  \n",
       "0  0.934986  \n",
       "1  0.934986  \n",
       "2  0.910730  \n",
       "3  0.910730  \n",
       "4  0.910730  "
      ]
     },
     "execution_count": 901,
     "metadata": {},
     "output_type": "execute_result"
    }
   ],
   "source": [
    "\n",
    "corrmat=x_train.corr()\n",
    "corrmat=corrmat.abs().unstack()\n",
    "corrmat=corrmat.sort_values(ascending=False)\n",
    "corrmat=corrmat[corrmat>=0.8]\n",
    "corrmat=corrmat[corrmat<1]\n",
    "corrmat=pd.DataFrame(corrmat).reset_index()\n",
    "corrmat.columns=['feature1','feature2','corr']\n",
    "corrmat.head()"
   ]
  },
  {
   "cell_type": "markdown",
   "metadata": {},
   "source": [
    "**<span style=\"text-decoration: underline\">Find groups of features are that are correlated amongst themselves</span>** "
   ]
  },
  {
   "cell_type": "code",
   "execution_count": 902,
   "metadata": {},
   "outputs": [
    {
     "name": "stdout",
     "output_type": "stream",
     "text": [
      "found 2 correlated groups\n",
      "out of 30 total features\n"
     ]
    }
   ],
   "source": [
    "\n",
    "grouped_feature_1s=[]\n",
    "correlated_groups=[]\n",
    "for feature in corrmat.feature1.unique():\n",
    "    if feature not in grouped_feature_1s:\n",
    "        # find all features correlated to a single feature\n",
    "        correlated_block=corrmat[corrmat.feature1==feature]\n",
    "        grouped_feature_1s=grouped_feature_1s+list(\n",
    "            correlated_block.feature2.unique())+ [feature]\n",
    "        \n",
    "        # Append the block features to the list\n",
    "        correlated_groups.append(correlated_block)\n",
    "print('found {} correlated groups'.format(len(correlated_groups)))\n",
    "print('out of {} total features'.format(x_train.shape[1]))"
   ]
  },
  {
   "cell_type": "markdown",
   "metadata": {},
   "source": [
    "Remarks: From above,the first set of codes are used to find features that are correlated amongst themselves.\n",
    "    Next I found all features that are correlated to a single feature.\n",
    "    And finally I append block features to the list"
   ]
  },
  {
   "cell_type": "code",
   "execution_count": 903,
   "metadata": {},
   "outputs": [
    {
     "name": "stdout",
     "output_type": "stream",
     "text": [
      "         feature1      feature2      corr\n",
      "0  MonthlyCharges  TotalCharges  0.934986\n",
      "\n",
      "   feature1                              feature2     corr\n",
      "2    tenure  DeviceProtection_No internet service  0.91073\n",
      "8    tenure   StreamingMovies_No internet service  0.91073\n",
      "9    tenure       StreamingTV_No internet service  0.91073\n",
      "10   tenure       TechSupport_No internet service  0.91073\n",
      "12   tenure      OnlineBackup_No internet service  0.91073\n",
      "14   tenure    OnlineSecurity_No internet service  0.91073\n",
      "15   tenure                    InternetService_No  0.91073\n",
      "\n"
     ]
    }
   ],
   "source": [
    "for group in correlated_groups:\n",
    "    print(group)\n",
    "    print()"
   ]
  },
  {
   "cell_type": "markdown",
   "metadata": {},
   "source": [
    "Remarks: From  above features that are correlated amongst themselves have been identified,and tenure seems to be haighly correlated with many of the faetures in the dataset.\n",
    "Now the next steps of features selection will remove correlated features features.\n",
    "    "
   ]
  },
  {
   "cell_type": "markdown",
   "metadata": {},
   "source": [
    "**<span style=\"text-decoration: underline\">Identify and remove duplicated features </span> **"
   ]
  },
  {
   "cell_type": "code",
   "execution_count": 904,
   "metadata": {},
   "outputs": [
    {
     "data": {
      "text/plain": [
       "((4930, 30), (2113, 30))"
      ]
     },
     "execution_count": 904,
     "metadata": {},
     "output_type": "execute_result"
    }
   ],
   "source": [
    "x_train,x_test,y_train,y_test=train_test_split(\n",
    "    ml_Telco.drop(labels=['Churn'],axis=1),\n",
    "    ml_Telco['Churn'],\n",
    "    test_size=0.3,\n",
    "    random_state=0)\n",
    "x_train.shape,x_test.shape"
   ]
  },
  {
   "cell_type": "code",
   "execution_count": 905,
   "metadata": {},
   "outputs": [
    {
     "data": {
      "text/html": [
       "<div>\n",
       "<style scoped>\n",
       "    .dataframe tbody tr th:only-of-type {\n",
       "        vertical-align: middle;\n",
       "    }\n",
       "\n",
       "    .dataframe tbody tr th {\n",
       "        vertical-align: top;\n",
       "    }\n",
       "\n",
       "    .dataframe thead th {\n",
       "        text-align: right;\n",
       "    }\n",
       "</style>\n",
       "<table border=\"1\" class=\"dataframe\">\n",
       "  <thead>\n",
       "    <tr style=\"text-align: right;\">\n",
       "      <th></th>\n",
       "      <th>3580</th>\n",
       "      <th>2364</th>\n",
       "      <th>6813</th>\n",
       "      <th>789</th>\n",
       "      <th>561</th>\n",
       "      <th>298</th>\n",
       "      <th>3892</th>\n",
       "      <th>1299</th>\n",
       "      <th>5110</th>\n",
       "      <th>6331</th>\n",
       "      <th>...</th>\n",
       "      <th>5874</th>\n",
       "      <th>4373</th>\n",
       "      <th>1033</th>\n",
       "      <th>5827</th>\n",
       "      <th>4859</th>\n",
       "      <th>4931</th>\n",
       "      <th>3264</th>\n",
       "      <th>1653</th>\n",
       "      <th>2607</th>\n",
       "      <th>2732</th>\n",
       "    </tr>\n",
       "  </thead>\n",
       "  <tbody>\n",
       "    <tr>\n",
       "      <th>SeniorCitizen</th>\n",
       "      <td>0.000000</td>\n",
       "      <td>0.000000</td>\n",
       "      <td>0.000000</td>\n",
       "      <td>0.000000</td>\n",
       "      <td>0.000000</td>\n",
       "      <td>0.000000</td>\n",
       "      <td>0.000000</td>\n",
       "      <td>0.000000</td>\n",
       "      <td>0.000000</td>\n",
       "      <td>0.000000</td>\n",
       "      <td>...</td>\n",
       "      <td>0.00000</td>\n",
       "      <td>0.000000</td>\n",
       "      <td>0.000000</td>\n",
       "      <td>0.000000</td>\n",
       "      <td>1.000000</td>\n",
       "      <td>0.000000</td>\n",
       "      <td>0.000000</td>\n",
       "      <td>0.00000</td>\n",
       "      <td>1.000000</td>\n",
       "      <td>0.00000</td>\n",
       "    </tr>\n",
       "    <tr>\n",
       "      <th>Partner</th>\n",
       "      <td>0.000000</td>\n",
       "      <td>1.000000</td>\n",
       "      <td>1.000000</td>\n",
       "      <td>0.000000</td>\n",
       "      <td>1.000000</td>\n",
       "      <td>1.000000</td>\n",
       "      <td>0.000000</td>\n",
       "      <td>1.000000</td>\n",
       "      <td>0.000000</td>\n",
       "      <td>1.000000</td>\n",
       "      <td>...</td>\n",
       "      <td>0.00000</td>\n",
       "      <td>1.000000</td>\n",
       "      <td>1.000000</td>\n",
       "      <td>1.000000</td>\n",
       "      <td>1.000000</td>\n",
       "      <td>1.000000</td>\n",
       "      <td>0.000000</td>\n",
       "      <td>1.00000</td>\n",
       "      <td>0.000000</td>\n",
       "      <td>0.00000</td>\n",
       "    </tr>\n",
       "    <tr>\n",
       "      <th>Dependents</th>\n",
       "      <td>1.000000</td>\n",
       "      <td>0.000000</td>\n",
       "      <td>0.000000</td>\n",
       "      <td>0.000000</td>\n",
       "      <td>0.000000</td>\n",
       "      <td>1.000000</td>\n",
       "      <td>0.000000</td>\n",
       "      <td>0.000000</td>\n",
       "      <td>0.000000</td>\n",
       "      <td>1.000000</td>\n",
       "      <td>...</td>\n",
       "      <td>0.00000</td>\n",
       "      <td>1.000000</td>\n",
       "      <td>0.000000</td>\n",
       "      <td>1.000000</td>\n",
       "      <td>0.000000</td>\n",
       "      <td>0.000000</td>\n",
       "      <td>1.000000</td>\n",
       "      <td>0.00000</td>\n",
       "      <td>0.000000</td>\n",
       "      <td>1.00000</td>\n",
       "    </tr>\n",
       "    <tr>\n",
       "      <th>PaperlessBilling</th>\n",
       "      <td>1.000000</td>\n",
       "      <td>1.000000</td>\n",
       "      <td>0.000000</td>\n",
       "      <td>0.000000</td>\n",
       "      <td>1.000000</td>\n",
       "      <td>1.000000</td>\n",
       "      <td>0.000000</td>\n",
       "      <td>1.000000</td>\n",
       "      <td>1.000000</td>\n",
       "      <td>0.000000</td>\n",
       "      <td>...</td>\n",
       "      <td>1.00000</td>\n",
       "      <td>0.000000</td>\n",
       "      <td>0.000000</td>\n",
       "      <td>1.000000</td>\n",
       "      <td>0.000000</td>\n",
       "      <td>1.000000</td>\n",
       "      <td>1.000000</td>\n",
       "      <td>0.00000</td>\n",
       "      <td>1.000000</td>\n",
       "      <td>0.00000</td>\n",
       "    </tr>\n",
       "    <tr>\n",
       "      <th>tenure</th>\n",
       "      <td>0.013729</td>\n",
       "      <td>0.011785</td>\n",
       "      <td>0.020327</td>\n",
       "      <td>0.014666</td>\n",
       "      <td>0.032547</td>\n",
       "      <td>0.013258</td>\n",
       "      <td>0.049803</td>\n",
       "      <td>0.022642</td>\n",
       "      <td>0.012569</td>\n",
       "      <td>0.026171</td>\n",
       "      <td>...</td>\n",
       "      <td>0.00939</td>\n",
       "      <td>0.047977</td>\n",
       "      <td>0.043714</td>\n",
       "      <td>0.010973</td>\n",
       "      <td>0.009009</td>\n",
       "      <td>0.009719</td>\n",
       "      <td>0.010323</td>\n",
       "      <td>0.04884</td>\n",
       "      <td>0.010137</td>\n",
       "      <td>0.04134</td>\n",
       "    </tr>\n",
       "  </tbody>\n",
       "</table>\n",
       "<p>5 rows × 4930 columns</p>\n",
       "</div>"
      ],
      "text/plain": [
       "                      3580      2364      6813      789       561       298   \\\n",
       "SeniorCitizen     0.000000  0.000000  0.000000  0.000000  0.000000  0.000000   \n",
       "Partner           0.000000  1.000000  1.000000  0.000000  1.000000  1.000000   \n",
       "Dependents        1.000000  0.000000  0.000000  0.000000  0.000000  1.000000   \n",
       "PaperlessBilling  1.000000  1.000000  0.000000  0.000000  1.000000  1.000000   \n",
       "tenure            0.013729  0.011785  0.020327  0.014666  0.032547  0.013258   \n",
       "\n",
       "                      3892      1299      5110      6331  ...     5874  \\\n",
       "SeniorCitizen     0.000000  0.000000  0.000000  0.000000  ...  0.00000   \n",
       "Partner           0.000000  1.000000  0.000000  1.000000  ...  0.00000   \n",
       "Dependents        0.000000  0.000000  0.000000  1.000000  ...  0.00000   \n",
       "PaperlessBilling  0.000000  1.000000  1.000000  0.000000  ...  1.00000   \n",
       "tenure            0.049803  0.022642  0.012569  0.026171  ...  0.00939   \n",
       "\n",
       "                      4373      1033      5827      4859      4931      3264  \\\n",
       "SeniorCitizen     0.000000  0.000000  0.000000  1.000000  0.000000  0.000000   \n",
       "Partner           1.000000  1.000000  1.000000  1.000000  1.000000  0.000000   \n",
       "Dependents        1.000000  0.000000  1.000000  0.000000  0.000000  1.000000   \n",
       "PaperlessBilling  0.000000  0.000000  1.000000  0.000000  1.000000  1.000000   \n",
       "tenure            0.047977  0.043714  0.010973  0.009009  0.009719  0.010323   \n",
       "\n",
       "                     1653      2607     2732  \n",
       "SeniorCitizen     0.00000  1.000000  0.00000  \n",
       "Partner           1.00000  0.000000  0.00000  \n",
       "Dependents        0.00000  0.000000  1.00000  \n",
       "PaperlessBilling  0.00000  1.000000  0.00000  \n",
       "tenure            0.04884  0.010137  0.04134  \n",
       "\n",
       "[5 rows x 4930 columns]"
      ]
     },
     "execution_count": 905,
     "metadata": {},
     "output_type": "execute_result"
    }
   ],
   "source": [
    "\n",
    "ml_Telco_t=x_train.T\n",
    "ml_Telco_t.head()"
   ]
  },
  {
   "cell_type": "code",
   "execution_count": 906,
   "metadata": {
    "scrolled": true
   },
   "outputs": [
    {
     "data": {
      "text/plain": [
       "6"
      ]
     },
     "execution_count": 906,
     "metadata": {},
     "output_type": "execute_result"
    }
   ],
   "source": [
    "ml_Telco_t.duplicated().sum()"
   ]
  },
  {
   "cell_type": "code",
   "execution_count": 907,
   "metadata": {},
   "outputs": [
    {
     "data": {
      "text/html": [
       "<div>\n",
       "<style scoped>\n",
       "    .dataframe tbody tr th:only-of-type {\n",
       "        vertical-align: middle;\n",
       "    }\n",
       "\n",
       "    .dataframe tbody tr th {\n",
       "        vertical-align: top;\n",
       "    }\n",
       "\n",
       "    .dataframe thead th {\n",
       "        text-align: right;\n",
       "    }\n",
       "</style>\n",
       "<table border=\"1\" class=\"dataframe\">\n",
       "  <thead>\n",
       "    <tr style=\"text-align: right;\">\n",
       "      <th></th>\n",
       "      <th>3580</th>\n",
       "      <th>2364</th>\n",
       "      <th>6813</th>\n",
       "      <th>789</th>\n",
       "      <th>561</th>\n",
       "      <th>298</th>\n",
       "      <th>3892</th>\n",
       "      <th>1299</th>\n",
       "      <th>5110</th>\n",
       "      <th>6331</th>\n",
       "      <th>...</th>\n",
       "      <th>5874</th>\n",
       "      <th>4373</th>\n",
       "      <th>1033</th>\n",
       "      <th>5827</th>\n",
       "      <th>4859</th>\n",
       "      <th>4931</th>\n",
       "      <th>3264</th>\n",
       "      <th>1653</th>\n",
       "      <th>2607</th>\n",
       "      <th>2732</th>\n",
       "    </tr>\n",
       "  </thead>\n",
       "  <tbody>\n",
       "    <tr>\n",
       "      <th>OnlineSecurity_No internet service</th>\n",
       "      <td>0.0</td>\n",
       "      <td>0.0</td>\n",
       "      <td>0.0</td>\n",
       "      <td>0.0</td>\n",
       "      <td>1.0</td>\n",
       "      <td>0.0</td>\n",
       "      <td>1.0</td>\n",
       "      <td>0.0</td>\n",
       "      <td>0.0</td>\n",
       "      <td>0.0</td>\n",
       "      <td>...</td>\n",
       "      <td>0.0</td>\n",
       "      <td>1.0</td>\n",
       "      <td>1.0</td>\n",
       "      <td>0.0</td>\n",
       "      <td>0.0</td>\n",
       "      <td>0.0</td>\n",
       "      <td>0.0</td>\n",
       "      <td>1.0</td>\n",
       "      <td>0.0</td>\n",
       "      <td>1.0</td>\n",
       "    </tr>\n",
       "    <tr>\n",
       "      <th>OnlineBackup_No internet service</th>\n",
       "      <td>0.0</td>\n",
       "      <td>0.0</td>\n",
       "      <td>0.0</td>\n",
       "      <td>0.0</td>\n",
       "      <td>1.0</td>\n",
       "      <td>0.0</td>\n",
       "      <td>1.0</td>\n",
       "      <td>0.0</td>\n",
       "      <td>0.0</td>\n",
       "      <td>0.0</td>\n",
       "      <td>...</td>\n",
       "      <td>0.0</td>\n",
       "      <td>1.0</td>\n",
       "      <td>1.0</td>\n",
       "      <td>0.0</td>\n",
       "      <td>0.0</td>\n",
       "      <td>0.0</td>\n",
       "      <td>0.0</td>\n",
       "      <td>1.0</td>\n",
       "      <td>0.0</td>\n",
       "      <td>1.0</td>\n",
       "    </tr>\n",
       "    <tr>\n",
       "      <th>DeviceProtection_No internet service</th>\n",
       "      <td>0.0</td>\n",
       "      <td>0.0</td>\n",
       "      <td>0.0</td>\n",
       "      <td>0.0</td>\n",
       "      <td>1.0</td>\n",
       "      <td>0.0</td>\n",
       "      <td>1.0</td>\n",
       "      <td>0.0</td>\n",
       "      <td>0.0</td>\n",
       "      <td>0.0</td>\n",
       "      <td>...</td>\n",
       "      <td>0.0</td>\n",
       "      <td>1.0</td>\n",
       "      <td>1.0</td>\n",
       "      <td>0.0</td>\n",
       "      <td>0.0</td>\n",
       "      <td>0.0</td>\n",
       "      <td>0.0</td>\n",
       "      <td>1.0</td>\n",
       "      <td>0.0</td>\n",
       "      <td>1.0</td>\n",
       "    </tr>\n",
       "    <tr>\n",
       "      <th>TechSupport_No internet service</th>\n",
       "      <td>0.0</td>\n",
       "      <td>0.0</td>\n",
       "      <td>0.0</td>\n",
       "      <td>0.0</td>\n",
       "      <td>1.0</td>\n",
       "      <td>0.0</td>\n",
       "      <td>1.0</td>\n",
       "      <td>0.0</td>\n",
       "      <td>0.0</td>\n",
       "      <td>0.0</td>\n",
       "      <td>...</td>\n",
       "      <td>0.0</td>\n",
       "      <td>1.0</td>\n",
       "      <td>1.0</td>\n",
       "      <td>0.0</td>\n",
       "      <td>0.0</td>\n",
       "      <td>0.0</td>\n",
       "      <td>0.0</td>\n",
       "      <td>1.0</td>\n",
       "      <td>0.0</td>\n",
       "      <td>1.0</td>\n",
       "    </tr>\n",
       "    <tr>\n",
       "      <th>StreamingTV_No internet service</th>\n",
       "      <td>0.0</td>\n",
       "      <td>0.0</td>\n",
       "      <td>0.0</td>\n",
       "      <td>0.0</td>\n",
       "      <td>1.0</td>\n",
       "      <td>0.0</td>\n",
       "      <td>1.0</td>\n",
       "      <td>0.0</td>\n",
       "      <td>0.0</td>\n",
       "      <td>0.0</td>\n",
       "      <td>...</td>\n",
       "      <td>0.0</td>\n",
       "      <td>1.0</td>\n",
       "      <td>1.0</td>\n",
       "      <td>0.0</td>\n",
       "      <td>0.0</td>\n",
       "      <td>0.0</td>\n",
       "      <td>0.0</td>\n",
       "      <td>1.0</td>\n",
       "      <td>0.0</td>\n",
       "      <td>1.0</td>\n",
       "    </tr>\n",
       "    <tr>\n",
       "      <th>StreamingMovies_No internet service</th>\n",
       "      <td>0.0</td>\n",
       "      <td>0.0</td>\n",
       "      <td>0.0</td>\n",
       "      <td>0.0</td>\n",
       "      <td>1.0</td>\n",
       "      <td>0.0</td>\n",
       "      <td>1.0</td>\n",
       "      <td>0.0</td>\n",
       "      <td>0.0</td>\n",
       "      <td>0.0</td>\n",
       "      <td>...</td>\n",
       "      <td>0.0</td>\n",
       "      <td>1.0</td>\n",
       "      <td>1.0</td>\n",
       "      <td>0.0</td>\n",
       "      <td>0.0</td>\n",
       "      <td>0.0</td>\n",
       "      <td>0.0</td>\n",
       "      <td>1.0</td>\n",
       "      <td>0.0</td>\n",
       "      <td>1.0</td>\n",
       "    </tr>\n",
       "  </tbody>\n",
       "</table>\n",
       "<p>6 rows × 4930 columns</p>\n",
       "</div>"
      ],
      "text/plain": [
       "                                      3580  2364  6813  789   561   298   \\\n",
       "OnlineSecurity_No internet service     0.0   0.0   0.0   0.0   1.0   0.0   \n",
       "OnlineBackup_No internet service       0.0   0.0   0.0   0.0   1.0   0.0   \n",
       "DeviceProtection_No internet service   0.0   0.0   0.0   0.0   1.0   0.0   \n",
       "TechSupport_No internet service        0.0   0.0   0.0   0.0   1.0   0.0   \n",
       "StreamingTV_No internet service        0.0   0.0   0.0   0.0   1.0   0.0   \n",
       "StreamingMovies_No internet service    0.0   0.0   0.0   0.0   1.0   0.0   \n",
       "\n",
       "                                      3892  1299  5110  6331  ...  5874  4373  \\\n",
       "OnlineSecurity_No internet service     1.0   0.0   0.0   0.0  ...   0.0   1.0   \n",
       "OnlineBackup_No internet service       1.0   0.0   0.0   0.0  ...   0.0   1.0   \n",
       "DeviceProtection_No internet service   1.0   0.0   0.0   0.0  ...   0.0   1.0   \n",
       "TechSupport_No internet service        1.0   0.0   0.0   0.0  ...   0.0   1.0   \n",
       "StreamingTV_No internet service        1.0   0.0   0.0   0.0  ...   0.0   1.0   \n",
       "StreamingMovies_No internet service    1.0   0.0   0.0   0.0  ...   0.0   1.0   \n",
       "\n",
       "                                      1033  5827  4859  4931  3264  1653  \\\n",
       "OnlineSecurity_No internet service     1.0   0.0   0.0   0.0   0.0   1.0   \n",
       "OnlineBackup_No internet service       1.0   0.0   0.0   0.0   0.0   1.0   \n",
       "DeviceProtection_No internet service   1.0   0.0   0.0   0.0   0.0   1.0   \n",
       "TechSupport_No internet service        1.0   0.0   0.0   0.0   0.0   1.0   \n",
       "StreamingTV_No internet service        1.0   0.0   0.0   0.0   0.0   1.0   \n",
       "StreamingMovies_No internet service    1.0   0.0   0.0   0.0   0.0   1.0   \n",
       "\n",
       "                                      2607  2732  \n",
       "OnlineSecurity_No internet service     0.0   1.0  \n",
       "OnlineBackup_No internet service       0.0   1.0  \n",
       "DeviceProtection_No internet service   0.0   1.0  \n",
       "TechSupport_No internet service        0.0   1.0  \n",
       "StreamingTV_No internet service        0.0   1.0  \n",
       "StreamingMovies_No internet service    0.0   1.0  \n",
       "\n",
       "[6 rows x 4930 columns]"
      ]
     },
     "execution_count": 907,
     "metadata": {},
     "output_type": "execute_result"
    }
   ],
   "source": [
    "ml_Telco_t[ml_Telco_t.duplicated()]"
   ]
  },
  {
   "cell_type": "code",
   "execution_count": 908,
   "metadata": {},
   "outputs": [
    {
     "data": {
      "text/plain": [
       "array(['OnlineSecurity_No internet service',\n",
       "       'OnlineBackup_No internet service',\n",
       "       'DeviceProtection_No internet service',\n",
       "       'TechSupport_No internet service',\n",
       "       'StreamingTV_No internet service',\n",
       "       'StreamingMovies_No internet service'], dtype=object)"
      ]
     },
     "execution_count": 908,
     "metadata": {},
     "output_type": "execute_result"
    }
   ],
   "source": [
    "duplicated_features=ml_Telco_t[ml_Telco_t.duplicated()].index.values\n",
    "duplicated_features"
   ]
  },
  {
   "cell_type": "markdown",
   "metadata": {},
   "source": [
    "Remarks: Above are list of duplicated features in the dataset and they are 6 features."
   ]
  },
  {
   "cell_type": "code",
   "execution_count": 909,
   "metadata": {},
   "outputs": [
    {
     "data": {
      "text/plain": [
       "((4930, 24), (2113, 24))"
      ]
     },
     "execution_count": 909,
     "metadata": {},
     "output_type": "execute_result"
    }
   ],
   "source": [
    "\n",
    "x_train.drop(labels=duplicated_features, axis=1, inplace=True)\n",
    "x_test.drop(labels=duplicated_features, axis=1, inplace=True)\n",
    "x_train.shape,x_test.shape"
   ]
  },
  {
   "cell_type": "markdown",
   "metadata": {},
   "source": [
    "Remarks: 6 duplicated features have been dropped from the dataset and this will enable the availability of only fine grained data set for analytics. "
   ]
  },
  {
   "cell_type": "markdown",
   "metadata": {},
   "source": [
    " ** <span style=\"text-decoration: underline\">feature selection using Univariate roc-auc</span> **"
   ]
  },
  {
   "cell_type": "markdown",
   "metadata": {},
   "source": [
    "Remarks: Application of roc-auc in feature selection works as follows:\n",
    " - First it builds one decision tree per feature to predict the target.\n",
    " - Second it makes predictions using the decision tree and the mentioned feature.\n",
    " - Third it ranks the the features according to the machine learning metrics(roc-auc).\n",
    " - Finally it selects the highest ranked features.\n",
    " <br>\n",
    " So the higher the ranking of a particular feature,the better such feature will perform in prediction.\n",
    " <br>\n",
    " Therefore it is imperative to choose a threshold that will determine features that will take part in prediction and this can be done arbitrally.I choose threshold of 0.55"
   ]
  },
  {
   "cell_type": "code",
   "execution_count": null,
   "metadata": {},
   "outputs": [],
   "source": [
    "\n",
    "from sklearn.tree import DecisionTreeClassifier,DecisionTreeRegressor\n",
    "from sklearn.metrics import roc_auc_score,mean_squared_error\n",
    "roc_values=[]\n",
    "for feature in x_train.columns:\n",
    "    clf=DecisionTreeClassifier()\n",
    "    clf.fit(x_train[feature].fillna(0).to_frame(),y_train)\n",
    "    y_scored=clf.predict_proba(x_test[feature].fillna(0).to_frame())\n",
    "    roc_values.append(roc_auc_score(y_test,y_scored[:, 1]))"
   ]
  },
  {
   "cell_type": "code",
   "execution_count": null,
   "metadata": {},
   "outputs": [],
   "source": [
    "\n",
    "roc_values=pd.Series(roc_values)\n",
    "roc_values.index=x_train.columns\n",
    "roc_values.sort_values(ascending=False)"
   ]
  },
  {
   "cell_type": "code",
   "execution_count": null,
   "metadata": {},
   "outputs": [],
   "source": [
    "Remarks:"
   ]
  },
  {
   "cell_type": "code",
   "execution_count": null,
   "metadata": {},
   "outputs": [],
   "source": [
    "roc_values.sort_values(ascending=False).plot.bar(figsize=(20, 8))\n",
    "plt.show()\n",
    "        \n",
    "        "
   ]
  },
  {
   "cell_type": "code",
   "execution_count": 911,
   "metadata": {},
   "outputs": [
    {
     "data": {
      "text/plain": [
       "14"
      ]
     },
     "execution_count": 911,
     "metadata": {},
     "output_type": "execute_result"
    }
   ],
   "source": [
    "len(roc_values[roc_values>0.55])"
   ]
  },
  {
   "cell_type": "code",
   "execution_count": 912,
   "metadata": {},
   "outputs": [
    {
     "data": {
      "text/plain": [
       "10"
      ]
     },
     "execution_count": 912,
     "metadata": {},
     "output_type": "execute_result"
    }
   ],
   "source": [
    "len(roc_values[roc_values<0.55])"
   ]
  },
  {
   "cell_type": "code",
   "execution_count": 913,
   "metadata": {},
   "outputs": [
    {
     "data": {
      "text/plain": [
       "array(['SeniorCitizen', 'Partner', 'Dependents', 'PaperlessBilling',\n",
       "       'MonthlyCharges', 'TotalCharges', 'InternetService_Fiber optic',\n",
       "       'InternetService_No', 'OnlineSecurity_1', 'TechSupport_1',\n",
       "       'Contract_One year', 'Contract_Two year',\n",
       "       'PaymentMethod_Credit card (automatic)',\n",
       "       'PaymentMethod_Electronic check'], dtype=object)"
      ]
     },
     "execution_count": 913,
     "metadata": {},
     "output_type": "execute_result"
    }
   ],
   "source": [
    "\n",
    "selected_roc_values=roc_values[roc_values>0.55].index.values\n",
    "selected_roc_values"
   ]
  },
  {
   "cell_type": "code",
   "execution_count": 939,
   "metadata": {},
   "outputs": [
    {
     "data": {
      "text/plain": [
       "array(['SeniorCitizen', 'Partner', 'Dependents', 'PaperlessBilling',\n",
       "       'MonthlyCharges', 'TotalCharges', 'InternetService_Fiber optic',\n",
       "       'InternetService_No', 'OnlineSecurity_1', 'TechSupport_1',\n",
       "       'Contract_One year', 'Contract_Two year',\n",
       "       'PaymentMethod_Credit card (automatic)',\n",
       "       'PaymentMethod_Electronic check'], dtype=object)"
      ]
     },
     "execution_count": 939,
     "metadata": {},
     "output_type": "execute_result"
    }
   ],
   "source": [
    "New_Features=selected_roc_values\n",
    "New_Features"
   ]
  },
  {
   "cell_type": "markdown",
   "metadata": {},
   "source": [
    "Remarks: Above are the number of features that passed roc-auc test"
   ]
  },
  {
   "cell_type": "code",
   "execution_count": 915,
   "metadata": {},
   "outputs": [
    {
     "data": {
      "text/plain": [
       "array(['tenure', 'gender_Male', 'PhoneService_Yes', 'MultipleLines_1',\n",
       "       'MultipleLines_No phone service', 'OnlineBackup_1',\n",
       "       'DeviceProtection_1', 'StreamingTV_1', 'StreamingMovies_Yes',\n",
       "       'PaymentMethod_Mailed check'], dtype=object)"
      ]
     },
     "execution_count": 915,
     "metadata": {},
     "output_type": "execute_result"
    }
   ],
   "source": [
    "\n",
    "removed_roc_values=roc_values[roc_values<0.55].index.values\n",
    "removed_roc_values"
   ]
  },
  {
   "cell_type": "markdown",
   "metadata": {},
   "source": [
    "Remarks: Above are the features that failed roc-auc test and they will be dropped,this process has also helped to drop tenure which happens to be correlated with many features in the data set,this was discovered when highly correlated features where identified above."
   ]
  },
  {
   "cell_type": "code",
   "execution_count": 916,
   "metadata": {},
   "outputs": [
    {
     "data": {
      "text/plain": [
       "((4930, 14), (2113, 14))"
      ]
     },
     "execution_count": 916,
     "metadata": {},
     "output_type": "execute_result"
    }
   ],
   "source": [
    "\n",
    "x_train.drop(labels=removed_roc_values, axis=1, inplace=True)\n",
    "x_test.drop(labels=removed_roc_values, axis=1, inplace=True)\n",
    " \n",
    "x_train.shape, x_test.shape"
   ]
  },
  {
   "cell_type": "markdown",
   "metadata": {},
   "source": [
    "5.** <span style=\"text-decoration: underline\">Training and testing machine learning models(GBM)</span> **\n",
    " <br>\n",
    " The aim of predictive models are as follows:\n",
    " - Predictive power,that is to make predictions and access the capacity of the model for future unseen data.\n",
    " - Identify the customers with high probability of churning.\n",
    " - Identify the causes behing the tendencies to churn(feature importance)\n",
    " - Use the results from the above findings to make recommendations to the firm.\n",
    " \n",
    "  **Metrics needed to access the model **\n",
    " <br>\n",
    " \n",
    " - Measures taken on the customers who don't have intention of churning(leaving) would result to customer satisfaction.\n",
    " - We are more interested in identifying customers who have the tendency to churn(label 1).\n",
    " <br>\n",
    " Therefore we want high recall on class 1.\n",
    " "
   ]
  },
  {
   "cell_type": "markdown",
   "metadata": {},
   "source": [
    "Gradient Boosting Classifier"
   ]
  },
  {
   "cell_type": "code",
   "execution_count": 918,
   "metadata": {},
   "outputs": [],
   "source": [
    "import pandas as pd\n",
    "import numpy as np\n",
    " \n",
    "import matplotlib.pyplot as plt\n",
    "import seaborn as sns\n",
    "%matplotlib inline\n",
    " \n",
    "from sklearn.model_selection import train_test_split\n",
    " \n",
    "from sklearn.ensemble import GradientBoostingClassifier\n",
    "from sklearn.feature_selection import SelectFromModel, RFE\n",
    "from sklearn.metrics import roc_auc_score"
   ]
  },
  {
   "cell_type": "code",
   "execution_count": 919,
   "metadata": {
    "scrolled": true
   },
   "outputs": [
    {
     "name": "stdout",
     "output_type": "stream",
     "text": [
      "Accuracy of the GBM on test set: 0.802\n",
      "             precision    recall  f1-score   support\n",
      "\n",
      "          0       0.85      0.89      0.87      1560\n",
      "          1       0.65      0.54      0.59       553\n",
      "\n",
      "avg / total       0.79      0.80      0.80      2113\n",
      "\n"
     ]
    },
    {
     "data": {
      "image/png": "[encoded data removed]",
      "text/plain": [
       "<matplotlib.figure.Figure at 0x2d4c0a035f8>"
      ]
     },
     "metadata": {
      "needs_background": "light"
     },
     "output_type": "display_data"
    }
   ],
   "source": [
    "from sklearn.ensemble import GradientBoostingClassifier\n",
    "from sklearn.metrics import classification_report\n",
    "from sklearn.grid_search import GridSearchCV\n",
    "\n",
    "\n",
    "baseline = GradientBoostingClassifier(learning_rate=0.1,n_estimators=100,max_depth=3, min_samples_split=2, min_samples_leaf=1, subsample=1,max_features='sqrt', random_state=10)\n",
    "baseline.fit(x_train,y_train)\n",
    "predictors=list(x_train)\n",
    "feat_imp = pd.Series(baseline.feature_importances_, predictors).sort_values(ascending=False)\n",
    "feat_imp.plot(kind='bar', title='Importance of Features')\n",
    "plt.ylabel('Feature Importance Score')\n",
    "print('Accuracy of the GBM on test set: {:.3f}'.format(baseline.score(x_test, y_test)))\n",
    "pred=baseline.predict(x_test)\n",
    "print(classification_report(y_test,pred))"
   ]
  },
  {
   "cell_type": "code",
   "execution_count": null,
   "metadata": {},
   "outputs": [],
   "source": [
    "printmd(\"<span style='color:blue'>TP:</span>For reference :New_Features=roc_values[roc_values>0.56]\")"
   ]
  },
  {
   "cell_type": "markdown",
   "metadata": {},
   "source": [
    "REMARKS: Below are definition of key terms in the classification report"
   ]
  },
  {
   "cell_type": "code",
   "execution_count": 850,
   "metadata": {},
   "outputs": [
    {
     "data": {
      "text/markdown": [
       "<span style='color:blue'>TP:</span>when a case was positive and the algorithm predicted positive(churn)"
      ],
      "text/plain": [
       "<IPython.core.display.Markdown object>"
      ]
     },
     "metadata": {},
     "output_type": "display_data"
    },
    {
     "data": {
      "text/markdown": [
       "<span style='color:blue'>TN:</span>when a case was negative and the algorithm predicted negative"
      ],
      "text/plain": [
       "<IPython.core.display.Markdown object>"
      ]
     },
     "metadata": {},
     "output_type": "display_data"
    },
    {
     "data": {
      "text/markdown": [
       "<span style='color:blue'>FP:</span> when a case was negative and the algorithm predicted positive"
      ],
      "text/plain": [
       "<IPython.core.display.Markdown object>"
      ]
     },
     "metadata": {},
     "output_type": "display_data"
    },
    {
     "data": {
      "text/markdown": [
       "<span style='color:blue'>FN:</span>when a case was positive and the algorithm predicted negative"
      ],
      "text/plain": [
       "<IPython.core.display.Markdown object>"
      ]
     },
     "metadata": {},
     "output_type": "display_data"
    },
    {
     "data": {
      "text/markdown": [
       "<span style='color:blue'>Precision:</span>Of all customers we predicted to churn,what fraction of customers actually churned=TP/(TP+ FP)"
      ],
      "text/plain": [
       "<IPython.core.display.Markdown object>"
      ]
     },
     "metadata": {},
     "output_type": "display_data"
    },
    {
     "data": {
      "text/markdown": [
       "<span style='color:blue'>Recall:</span> Of all customers that churned,what fraction did we correctly detect has churned =TP/(TP+FN)"
      ],
      "text/plain": [
       "<IPython.core.display.Markdown object>"
      ]
     },
     "metadata": {},
     "output_type": "display_data"
    },
    {
     "data": {
      "text/markdown": [
       "<span style='color:blue'>Classification report:</span> from our classifiaction report above,precision is 65%,this implies that the model predicted       that 65% of the customers will leave,and recall is 54%,this implies that the model was able to correctly identify 54%       of customers that will leave"
      ],
      "text/plain": [
       "<IPython.core.display.Markdown object>"
      ]
     },
     "metadata": {},
     "output_type": "display_data"
    }
   ],
   "source": [
    "\n",
    "printmd(\"<span style=\\'color:blue\\'>TP:</span>when a case was positive and the algorithm predicted positive(churn)\")\n",
    "printmd(\"<span style=\\'color:blue\\'>TN:</span>when a case was negative and the algorithm predicted negative\")\n",
    "printmd(\"<span style=\\'color:blue\\'>FP:</span> when a case was negative and the algorithm predicted positive\")\n",
    "printmd(\"<span style=\\'color:blue\\'>FN:</span>when a case was positive and the algorithm predicted negative\") \n",
    "printmd(\"<span style=\\'color:blue\\'>Precision:</span>Of all customers we predicted to churn,what fraction of customers actually churned=TP/(TP+ FP)\")\n",
    "printmd(\"<span style=\\'color:blue\\'>Recall:</span> Of all customers that churned,what fraction did we correctly detect has churned =TP/(TP+FN)\")\n",
    "printmd(\"<span style=\\'color:blue\\'>Classification report:</span> from our classifiaction report above,precision is 65%,this implies that the model predicted\\\n",
    "       that 65% of the customers will leave,and recall is 54%,this implies that the model was able to correctly identify 54%\\\n",
    "       of customers that will leave\")"
   ]
  },
  {
   "cell_type": "code",
   "execution_count": 751,
   "metadata": {},
   "outputs": [
    {
     "name": "stdout",
     "output_type": "stream",
     "text": [
      "[[1396  164]\n",
      " [ 255  298]]\n"
     ]
    }
   ],
   "source": [
    "from sklearn.metrics import confusion_matrix\n",
    "confusion_matrix = confusion_matrix(y_test, pred)\n",
    "print(confusion_matrix)"
   ]
  },
  {
   "cell_type": "code",
   "execution_count": 756,
   "metadata": {},
   "outputs": [
    {
     "data": {
      "text/markdown": [
       "<span style='color:blue'>Remark:</span> The above result is telling us that we have 1398 + 298=1696 correct predictions and 255 + 164=419 wrong predictions"
      ],
      "text/plain": [
       "<IPython.core.display.Markdown object>"
      ]
     },
     "metadata": {},
     "output_type": "display_data"
    }
   ],
   "source": [
    "printmd(\"<span style=\\'color:blue\\'>Remark:</span> The above result is telling us that we have 1398 + 298=1696 correct predictions and 255 + 164=419 wrong predictions\")"
   ]
  },
  {
   "cell_type": "raw",
   "metadata": {},
   "source": [
    "from sklearn.metrics import roc_auc_score\n",
    "from sklearn.metrics import roc_curve\n",
    "baseline_roc_auc = roc_auc_score(y_test, baseline.predict(x_test))\n",
    "fpr, tpr, thresholds = roc_curve(y_test, baseline.predict_proba(x_test)[:,1])\n",
    "plt.figure()\n",
    "plt.plot(fpr, tpr, label='Gradient Boosted machine (area = %0.2f)' % New_model_roc_auc)\n",
    "plt.plot([0, 1], [0, 1],'r--')\n",
    "plt.xlim([0.0, 1.0])\n",
    "plt.ylim([0.0, 1.05])\n",
    "plt.xlabel('False Positive Rate')\n",
    "plt.ylabel('True Positive Rate')\n",
    "plt.title('Receiver operating characteristic')\n",
    "plt.legend(loc=\"lower right\")\n",
    "plt.savefig('Log_ROC')\n",
    "plt.show()"
   ]
  },
  {
   "cell_type": "markdown",
   "metadata": {},
   "source": [
    "6.**Recommendations to retain the customers**\n",
    "<br>\n",
    " 1. Collect customers feedback and act on immediately to prevent customers churn.\n",
    " 2. Improve on technical support of all services like phone connection and streaming.\n",
    " 3. Try to provide better charge package for new customers so they can subscribe for longer contracts\n",
    "    i.e 2years or 1 year contract.\n",
    "    \n",
    " 4. Use this model to prioritize whose concerns to be addressed first.\n",
    " 5. It might be helpful to understand why customer churn started 5years ago,provide more historical \n",
    "    data to data scientist so they can dig more for more findings."
   ]
  },
  {
   "cell_type": "markdown",
   "metadata": {},
   "source": [
    "7.**References**\n",
    " -  A-Z data science course by Kiril Eremenko\n",
    " - Machine Learning Course by Andrew Ng in Coursera\n",
    " - Practical Statistics for data scientist by Peter Bruce  Andrew Bruce\n",
    " - Automate the boring stuff with python by Al Sweigart"
   ]
  },
  {
   "cell_type": "code",
   "execution_count": null,
   "metadata": {},
   "outputs": [],
   "source": []
  }
 ],
 "metadata": {
  "kernelspec": {
   "display_name": "Python 3",
   "language": "python",
   "name": "python3"
  },
  "language_info": {
   "codemirror_mode": {
    "name": "ipython",
    "version": 3
   },
   "file_extension": ".py",
   "mimetype": "text/x-python",
   "name": "python",
   "nbconvert_exporter": "python",
   "pygments_lexer": "ipython3",
   "version": "3.6.4"
  }
 },
 "nbformat": 4,
 "nbformat_minor": 2
}
